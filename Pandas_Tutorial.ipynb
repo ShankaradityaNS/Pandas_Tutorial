{
 "cells": [
  {
   "cell_type": "code",
   "execution_count": 1,
   "metadata": {},
   "outputs": [],
   "source": [
    "#Libraries needed#\n",
    "import pandas as pd\n",
    "import numpy as np"
   ]
  },
  {
   "cell_type": "code",
   "execution_count": 2,
   "metadata": {},
   "outputs": [
    {
     "data": {
      "text/plain": [
       "0     1.0\n",
       "1     2.0\n",
       "2     3.0\n",
       "3     4.0\n",
       "4     5.0\n",
       "5     6.0\n",
       "6     NaN\n",
       "7     8.0\n",
       "8     9.0\n",
       "9    10.0\n",
       "dtype: float64"
      ]
     },
     "execution_count": 2,
     "metadata": {},
     "output_type": "execute_result"
    }
   ],
   "source": [
    "#Creating a series#\n",
    "s = pd.Series([1,2,3,4,5,6,np.nan,8,9,10])\n",
    "s"
   ]
  },
  {
   "cell_type": "code",
   "execution_count": 3,
   "metadata": {},
   "outputs": [
    {
     "data": {
      "text/plain": [
       "DatetimeIndex(['2020-06-24', '2020-06-25', '2020-06-26', '2020-06-27',\n",
       "               '2020-06-28', '2020-06-29', '2020-06-30', '2020-07-01',\n",
       "               '2020-07-02', '2020-07-03'],\n",
       "              dtype='datetime64[ns]', freq='D')"
      ]
     },
     "execution_count": 3,
     "metadata": {},
     "output_type": "execute_result"
    }
   ],
   "source": [
    "#creating a data frame#\n",
    "d = pd.date_range('20200624',periods = 10)\n",
    "d"
   ]
  },
  {
   "cell_type": "code",
   "execution_count": 4,
   "metadata": {},
   "outputs": [
    {
     "data": {
      "text/html": [
       "<div>\n",
       "<style scoped>\n",
       "    .dataframe tbody tr th:only-of-type {\n",
       "        vertical-align: middle;\n",
       "    }\n",
       "\n",
       "    .dataframe tbody tr th {\n",
       "        vertical-align: top;\n",
       "    }\n",
       "\n",
       "    .dataframe thead th {\n",
       "        text-align: right;\n",
       "    }\n",
       "</style>\n",
       "<table border=\"1\" class=\"dataframe\">\n",
       "  <thead>\n",
       "    <tr style=\"text-align: right;\">\n",
       "      <th></th>\n",
       "      <th>A</th>\n",
       "      <th>B</th>\n",
       "      <th>C</th>\n",
       "      <th>D</th>\n",
       "    </tr>\n",
       "  </thead>\n",
       "  <tbody>\n",
       "    <tr>\n",
       "      <td>2020-06-24</td>\n",
       "      <td>1.075640</td>\n",
       "      <td>-0.806434</td>\n",
       "      <td>1.004701</td>\n",
       "      <td>-0.331218</td>\n",
       "    </tr>\n",
       "    <tr>\n",
       "      <td>2020-06-25</td>\n",
       "      <td>-0.859993</td>\n",
       "      <td>-1.289760</td>\n",
       "      <td>-0.820326</td>\n",
       "      <td>-0.054888</td>\n",
       "    </tr>\n",
       "    <tr>\n",
       "      <td>2020-06-26</td>\n",
       "      <td>-1.338047</td>\n",
       "      <td>0.311958</td>\n",
       "      <td>-1.220225</td>\n",
       "      <td>-0.150513</td>\n",
       "    </tr>\n",
       "    <tr>\n",
       "      <td>2020-06-27</td>\n",
       "      <td>-0.389909</td>\n",
       "      <td>0.403239</td>\n",
       "      <td>-0.656277</td>\n",
       "      <td>0.386758</td>\n",
       "    </tr>\n",
       "    <tr>\n",
       "      <td>2020-06-28</td>\n",
       "      <td>0.407651</td>\n",
       "      <td>0.012533</td>\n",
       "      <td>-0.648694</td>\n",
       "      <td>-0.902993</td>\n",
       "    </tr>\n",
       "    <tr>\n",
       "      <td>2020-06-29</td>\n",
       "      <td>-0.409951</td>\n",
       "      <td>-0.979485</td>\n",
       "      <td>-0.714591</td>\n",
       "      <td>0.949837</td>\n",
       "    </tr>\n",
       "    <tr>\n",
       "      <td>2020-06-30</td>\n",
       "      <td>-0.342765</td>\n",
       "      <td>-0.535695</td>\n",
       "      <td>-1.205490</td>\n",
       "      <td>0.703265</td>\n",
       "    </tr>\n",
       "    <tr>\n",
       "      <td>2020-07-01</td>\n",
       "      <td>0.624919</td>\n",
       "      <td>-0.113028</td>\n",
       "      <td>0.440828</td>\n",
       "      <td>0.042035</td>\n",
       "    </tr>\n",
       "    <tr>\n",
       "      <td>2020-07-02</td>\n",
       "      <td>1.256962</td>\n",
       "      <td>0.557252</td>\n",
       "      <td>-1.985915</td>\n",
       "      <td>-1.117941</td>\n",
       "    </tr>\n",
       "    <tr>\n",
       "      <td>2020-07-03</td>\n",
       "      <td>-0.144210</td>\n",
       "      <td>-1.351080</td>\n",
       "      <td>-0.342696</td>\n",
       "      <td>1.041441</td>\n",
       "    </tr>\n",
       "  </tbody>\n",
       "</table>\n",
       "</div>"
      ],
      "text/plain": [
       "                   A         B         C         D\n",
       "2020-06-24  1.075640 -0.806434  1.004701 -0.331218\n",
       "2020-06-25 -0.859993 -1.289760 -0.820326 -0.054888\n",
       "2020-06-26 -1.338047  0.311958 -1.220225 -0.150513\n",
       "2020-06-27 -0.389909  0.403239 -0.656277  0.386758\n",
       "2020-06-28  0.407651  0.012533 -0.648694 -0.902993\n",
       "2020-06-29 -0.409951 -0.979485 -0.714591  0.949837\n",
       "2020-06-30 -0.342765 -0.535695 -1.205490  0.703265\n",
       "2020-07-01  0.624919 -0.113028  0.440828  0.042035\n",
       "2020-07-02  1.256962  0.557252 -1.985915 -1.117941\n",
       "2020-07-03 -0.144210 -1.351080 -0.342696  1.041441"
      ]
     },
     "execution_count": 4,
     "metadata": {},
     "output_type": "execute_result"
    }
   ],
   "source": [
    "df  =pd.DataFrame(np.random.randn(10,4),index = d, columns = ['A','B','C','D'])\n",
    "df"
   ]
  },
  {
   "cell_type": "code",
   "execution_count": 5,
   "metadata": {},
   "outputs": [
    {
     "data": {
      "text/html": [
       "<div>\n",
       "<style scoped>\n",
       "    .dataframe tbody tr th:only-of-type {\n",
       "        vertical-align: middle;\n",
       "    }\n",
       "\n",
       "    .dataframe tbody tr th {\n",
       "        vertical-align: top;\n",
       "    }\n",
       "\n",
       "    .dataframe thead th {\n",
       "        text-align: right;\n",
       "    }\n",
       "</style>\n",
       "<table border=\"1\" class=\"dataframe\">\n",
       "  <thead>\n",
       "    <tr style=\"text-align: right;\">\n",
       "      <th></th>\n",
       "      <th>A</th>\n",
       "      <th>B</th>\n",
       "      <th>C</th>\n",
       "      <th>D</th>\n",
       "      <th>E</th>\n",
       "      <th>F</th>\n",
       "    </tr>\n",
       "  </thead>\n",
       "  <tbody>\n",
       "    <tr>\n",
       "      <td>0</td>\n",
       "      <td>1</td>\n",
       "      <td>2020-06-24</td>\n",
       "      <td>1.0</td>\n",
       "      <td>5</td>\n",
       "      <td>true</td>\n",
       "      <td>Shankaraditya N S</td>\n",
       "    </tr>\n",
       "    <tr>\n",
       "      <td>1</td>\n",
       "      <td>2</td>\n",
       "      <td>2020-06-24</td>\n",
       "      <td>1.0</td>\n",
       "      <td>5</td>\n",
       "      <td>false</td>\n",
       "      <td>Shankaraditya N S</td>\n",
       "    </tr>\n",
       "    <tr>\n",
       "      <td>2</td>\n",
       "      <td>3</td>\n",
       "      <td>2020-06-24</td>\n",
       "      <td>1.0</td>\n",
       "      <td>5</td>\n",
       "      <td>true</td>\n",
       "      <td>Shankaraditya N S</td>\n",
       "    </tr>\n",
       "    <tr>\n",
       "      <td>3</td>\n",
       "      <td>4</td>\n",
       "      <td>2020-06-24</td>\n",
       "      <td>1.0</td>\n",
       "      <td>5</td>\n",
       "      <td>false</td>\n",
       "      <td>Shankaraditya N S</td>\n",
       "    </tr>\n",
       "  </tbody>\n",
       "</table>\n",
       "</div>"
      ],
      "text/plain": [
       "   A          B    C  D      E                  F\n",
       "0  1 2020-06-24  1.0  5   true  Shankaraditya N S\n",
       "1  2 2020-06-24  1.0  5  false  Shankaraditya N S\n",
       "2  3 2020-06-24  1.0  5   true  Shankaraditya N S\n",
       "3  4 2020-06-24  1.0  5  false  Shankaraditya N S"
      ]
     },
     "execution_count": 5,
     "metadata": {},
     "output_type": "execute_result"
    }
   ],
   "source": [
    "#Creating 2nd dataframe#\n",
    "df1 = pd.DataFrame({'A':[1,2,3,4],\n",
    "                   'B':pd.Timestamp('20200624'),\n",
    "                   'C':pd.Series(1, index = list(range(4)),dtype = 'float32'),\n",
    "                   'D':np.array([5]*4, dtype = 'int32'),\n",
    "                   'E':pd.Categorical(['true','false','true','false']),\n",
    "                   'F':'Shankaraditya N S' })\n",
    "df1"
   ]
  },
  {
   "cell_type": "code",
   "execution_count": 6,
   "metadata": {},
   "outputs": [
    {
     "data": {
      "text/plain": [
       "A             int64\n",
       "B    datetime64[ns]\n",
       "C           float32\n",
       "D             int32\n",
       "E          category\n",
       "F            object\n",
       "dtype: object"
      ]
     },
     "execution_count": 6,
     "metadata": {},
     "output_type": "execute_result"
    }
   ],
   "source": [
    "df1.dtypes"
   ]
  },
  {
   "cell_type": "code",
   "execution_count": 7,
   "metadata": {},
   "outputs": [
    {
     "data": {
      "text/html": [
       "<div>\n",
       "<style scoped>\n",
       "    .dataframe tbody tr th:only-of-type {\n",
       "        vertical-align: middle;\n",
       "    }\n",
       "\n",
       "    .dataframe tbody tr th {\n",
       "        vertical-align: top;\n",
       "    }\n",
       "\n",
       "    .dataframe thead th {\n",
       "        text-align: right;\n",
       "    }\n",
       "</style>\n",
       "<table border=\"1\" class=\"dataframe\">\n",
       "  <thead>\n",
       "    <tr style=\"text-align: right;\">\n",
       "      <th></th>\n",
       "      <th>A</th>\n",
       "      <th>B</th>\n",
       "      <th>C</th>\n",
       "      <th>D</th>\n",
       "      <th>E</th>\n",
       "      <th>F</th>\n",
       "    </tr>\n",
       "  </thead>\n",
       "  <tbody>\n",
       "    <tr>\n",
       "      <td>0</td>\n",
       "      <td>1</td>\n",
       "      <td>2020-06-24</td>\n",
       "      <td>1.0</td>\n",
       "      <td>5</td>\n",
       "      <td>true</td>\n",
       "      <td>Shankaraditya N S</td>\n",
       "    </tr>\n",
       "    <tr>\n",
       "      <td>1</td>\n",
       "      <td>2</td>\n",
       "      <td>2020-06-24</td>\n",
       "      <td>1.0</td>\n",
       "      <td>5</td>\n",
       "      <td>false</td>\n",
       "      <td>Shankaraditya N S</td>\n",
       "    </tr>\n",
       "    <tr>\n",
       "      <td>2</td>\n",
       "      <td>3</td>\n",
       "      <td>2020-06-24</td>\n",
       "      <td>1.0</td>\n",
       "      <td>5</td>\n",
       "      <td>true</td>\n",
       "      <td>Shankaraditya N S</td>\n",
       "    </tr>\n",
       "    <tr>\n",
       "      <td>3</td>\n",
       "      <td>4</td>\n",
       "      <td>2020-06-24</td>\n",
       "      <td>1.0</td>\n",
       "      <td>5</td>\n",
       "      <td>false</td>\n",
       "      <td>Shankaraditya N S</td>\n",
       "    </tr>\n",
       "  </tbody>\n",
       "</table>\n",
       "</div>"
      ],
      "text/plain": [
       "   A          B    C  D      E                  F\n",
       "0  1 2020-06-24  1.0  5   true  Shankaraditya N S\n",
       "1  2 2020-06-24  1.0  5  false  Shankaraditya N S\n",
       "2  3 2020-06-24  1.0  5   true  Shankaraditya N S\n",
       "3  4 2020-06-24  1.0  5  false  Shankaraditya N S"
      ]
     },
     "execution_count": 7,
     "metadata": {},
     "output_type": "execute_result"
    }
   ],
   "source": [
    "df1.head()"
   ]
  },
  {
   "cell_type": "code",
   "execution_count": 8,
   "metadata": {},
   "outputs": [
    {
     "data": {
      "text/html": [
       "<div>\n",
       "<style scoped>\n",
       "    .dataframe tbody tr th:only-of-type {\n",
       "        vertical-align: middle;\n",
       "    }\n",
       "\n",
       "    .dataframe tbody tr th {\n",
       "        vertical-align: top;\n",
       "    }\n",
       "\n",
       "    .dataframe thead th {\n",
       "        text-align: right;\n",
       "    }\n",
       "</style>\n",
       "<table border=\"1\" class=\"dataframe\">\n",
       "  <thead>\n",
       "    <tr style=\"text-align: right;\">\n",
       "      <th></th>\n",
       "      <th>A</th>\n",
       "      <th>B</th>\n",
       "      <th>C</th>\n",
       "      <th>D</th>\n",
       "    </tr>\n",
       "  </thead>\n",
       "  <tbody>\n",
       "    <tr>\n",
       "      <td>2020-06-29</td>\n",
       "      <td>-0.409951</td>\n",
       "      <td>-0.979485</td>\n",
       "      <td>-0.714591</td>\n",
       "      <td>0.949837</td>\n",
       "    </tr>\n",
       "    <tr>\n",
       "      <td>2020-06-30</td>\n",
       "      <td>-0.342765</td>\n",
       "      <td>-0.535695</td>\n",
       "      <td>-1.205490</td>\n",
       "      <td>0.703265</td>\n",
       "    </tr>\n",
       "    <tr>\n",
       "      <td>2020-07-01</td>\n",
       "      <td>0.624919</td>\n",
       "      <td>-0.113028</td>\n",
       "      <td>0.440828</td>\n",
       "      <td>0.042035</td>\n",
       "    </tr>\n",
       "    <tr>\n",
       "      <td>2020-07-02</td>\n",
       "      <td>1.256962</td>\n",
       "      <td>0.557252</td>\n",
       "      <td>-1.985915</td>\n",
       "      <td>-1.117941</td>\n",
       "    </tr>\n",
       "    <tr>\n",
       "      <td>2020-07-03</td>\n",
       "      <td>-0.144210</td>\n",
       "      <td>-1.351080</td>\n",
       "      <td>-0.342696</td>\n",
       "      <td>1.041441</td>\n",
       "    </tr>\n",
       "  </tbody>\n",
       "</table>\n",
       "</div>"
      ],
      "text/plain": [
       "                   A         B         C         D\n",
       "2020-06-29 -0.409951 -0.979485 -0.714591  0.949837\n",
       "2020-06-30 -0.342765 -0.535695 -1.205490  0.703265\n",
       "2020-07-01  0.624919 -0.113028  0.440828  0.042035\n",
       "2020-07-02  1.256962  0.557252 -1.985915 -1.117941\n",
       "2020-07-03 -0.144210 -1.351080 -0.342696  1.041441"
      ]
     },
     "execution_count": 8,
     "metadata": {},
     "output_type": "execute_result"
    }
   ],
   "source": [
    "df.tail()"
   ]
  },
  {
   "cell_type": "code",
   "execution_count": 9,
   "metadata": {},
   "outputs": [
    {
     "data": {
      "text/plain": [
       "A    float64\n",
       "B    float64\n",
       "C    float64\n",
       "D    float64\n",
       "dtype: object"
      ]
     },
     "execution_count": 9,
     "metadata": {},
     "output_type": "execute_result"
    }
   ],
   "source": [
    "df.dtypes"
   ]
  },
  {
   "cell_type": "code",
   "execution_count": 10,
   "metadata": {},
   "outputs": [
    {
     "data": {
      "text/plain": [
       "DatetimeIndex(['2020-06-24', '2020-06-25', '2020-06-26', '2020-06-27',\n",
       "               '2020-06-28', '2020-06-29', '2020-06-30', '2020-07-01',\n",
       "               '2020-07-02', '2020-07-03'],\n",
       "              dtype='datetime64[ns]', freq='D')"
      ]
     },
     "execution_count": 10,
     "metadata": {},
     "output_type": "execute_result"
    }
   ],
   "source": [
    "df.index #Gives all values of index#"
   ]
  },
  {
   "cell_type": "code",
   "execution_count": 11,
   "metadata": {},
   "outputs": [
    {
     "data": {
      "text/plain": [
       "Index(['A', 'B', 'C', 'D'], dtype='object')"
      ]
     },
     "execution_count": 11,
     "metadata": {},
     "output_type": "execute_result"
    }
   ],
   "source": [
    "df.columns #Gives the column names#"
   ]
  },
  {
   "cell_type": "code",
   "execution_count": 12,
   "metadata": {
    "scrolled": true
   },
   "outputs": [
    {
     "data": {
      "text/plain": [
       "array([[ 1.07563976, -0.80643358,  1.00470086, -0.33121786],\n",
       "       [-0.85999271, -1.28975967, -0.82032607, -0.05488813],\n",
       "       [-1.33804711,  0.31195771, -1.22022539, -0.15051285],\n",
       "       [-0.38990882,  0.40323916, -0.65627667,  0.38675767],\n",
       "       [ 0.4076512 ,  0.01253265, -0.64869405, -0.90299266],\n",
       "       [-0.40995108, -0.97948548, -0.71459079,  0.94983673],\n",
       "       [-0.34276464, -0.53569461, -1.20549034,  0.70326518],\n",
       "       [ 0.62491921, -0.11302806,  0.4408281 ,  0.04203489],\n",
       "       [ 1.25696188,  0.55725175, -1.98591471, -1.11794104],\n",
       "       [-0.14420978, -1.35107995, -0.34269579,  1.04144118]])"
      ]
     },
     "execution_count": 12,
     "metadata": {},
     "output_type": "execute_result"
    }
   ],
   "source": [
    "df.to_numpy() #Numerical Representation of dataframe#"
   ]
  },
  {
   "cell_type": "code",
   "execution_count": 13,
   "metadata": {},
   "outputs": [
    {
     "data": {
      "text/html": [
       "<div>\n",
       "<style scoped>\n",
       "    .dataframe tbody tr th:only-of-type {\n",
       "        vertical-align: middle;\n",
       "    }\n",
       "\n",
       "    .dataframe tbody tr th {\n",
       "        vertical-align: top;\n",
       "    }\n",
       "\n",
       "    .dataframe thead th {\n",
       "        text-align: right;\n",
       "    }\n",
       "</style>\n",
       "<table border=\"1\" class=\"dataframe\">\n",
       "  <thead>\n",
       "    <tr style=\"text-align: right;\">\n",
       "      <th></th>\n",
       "      <th>A</th>\n",
       "      <th>B</th>\n",
       "      <th>C</th>\n",
       "      <th>D</th>\n",
       "    </tr>\n",
       "  </thead>\n",
       "  <tbody>\n",
       "    <tr>\n",
       "      <td>count</td>\n",
       "      <td>10.000000</td>\n",
       "      <td>10.000000</td>\n",
       "      <td>10.000000</td>\n",
       "      <td>10.000000</td>\n",
       "    </tr>\n",
       "    <tr>\n",
       "      <td>mean</td>\n",
       "      <td>-0.011970</td>\n",
       "      <td>-0.379050</td>\n",
       "      <td>-0.614868</td>\n",
       "      <td>0.056578</td>\n",
       "    </tr>\n",
       "    <tr>\n",
       "      <td>std</td>\n",
       "      <td>0.835368</td>\n",
       "      <td>0.709631</td>\n",
       "      <td>0.847326</td>\n",
       "      <td>0.730393</td>\n",
       "    </tr>\n",
       "    <tr>\n",
       "      <td>min</td>\n",
       "      <td>-1.338047</td>\n",
       "      <td>-1.351080</td>\n",
       "      <td>-1.985915</td>\n",
       "      <td>-1.117941</td>\n",
       "    </tr>\n",
       "    <tr>\n",
       "      <td>25%</td>\n",
       "      <td>-0.404941</td>\n",
       "      <td>-0.936223</td>\n",
       "      <td>-1.109199</td>\n",
       "      <td>-0.286042</td>\n",
       "    </tr>\n",
       "    <tr>\n",
       "      <td>50%</td>\n",
       "      <td>-0.243487</td>\n",
       "      <td>-0.324361</td>\n",
       "      <td>-0.685434</td>\n",
       "      <td>-0.006427</td>\n",
       "    </tr>\n",
       "    <tr>\n",
       "      <td>75%</td>\n",
       "      <td>0.570602</td>\n",
       "      <td>0.237101</td>\n",
       "      <td>-0.419195</td>\n",
       "      <td>0.624138</td>\n",
       "    </tr>\n",
       "    <tr>\n",
       "      <td>max</td>\n",
       "      <td>1.256962</td>\n",
       "      <td>0.557252</td>\n",
       "      <td>1.004701</td>\n",
       "      <td>1.041441</td>\n",
       "    </tr>\n",
       "  </tbody>\n",
       "</table>\n",
       "</div>"
      ],
      "text/plain": [
       "               A          B          C          D\n",
       "count  10.000000  10.000000  10.000000  10.000000\n",
       "mean   -0.011970  -0.379050  -0.614868   0.056578\n",
       "std     0.835368   0.709631   0.847326   0.730393\n",
       "min    -1.338047  -1.351080  -1.985915  -1.117941\n",
       "25%    -0.404941  -0.936223  -1.109199  -0.286042\n",
       "50%    -0.243487  -0.324361  -0.685434  -0.006427\n",
       "75%     0.570602   0.237101  -0.419195   0.624138\n",
       "max     1.256962   0.557252   1.004701   1.041441"
      ]
     },
     "execution_count": 13,
     "metadata": {},
     "output_type": "execute_result"
    }
   ],
   "source": [
    "df.describe() #Gives various parameter related data#"
   ]
  },
  {
   "cell_type": "code",
   "execution_count": 14,
   "metadata": {},
   "outputs": [
    {
     "data": {
      "text/plain": [
       "A    1.333061\n",
       "B    1.064159\n",
       "C    0.879677\n",
       "D    1.380268\n",
       "dtype: float64"
      ]
     },
     "execution_count": 14,
     "metadata": {},
     "output_type": "execute_result"
    }
   ],
   "source": [
    "df.describe().mean() #Accessing individual parameter data#"
   ]
  },
  {
   "cell_type": "code",
   "execution_count": 15,
   "metadata": {},
   "outputs": [
    {
     "data": {
      "text/html": [
       "<div>\n",
       "<style scoped>\n",
       "    .dataframe tbody tr th:only-of-type {\n",
       "        vertical-align: middle;\n",
       "    }\n",
       "\n",
       "    .dataframe tbody tr th {\n",
       "        vertical-align: top;\n",
       "    }\n",
       "\n",
       "    .dataframe thead th {\n",
       "        text-align: right;\n",
       "    }\n",
       "</style>\n",
       "<table border=\"1\" class=\"dataframe\">\n",
       "  <thead>\n",
       "    <tr style=\"text-align: right;\">\n",
       "      <th></th>\n",
       "      <th>D</th>\n",
       "      <th>C</th>\n",
       "      <th>B</th>\n",
       "      <th>A</th>\n",
       "    </tr>\n",
       "  </thead>\n",
       "  <tbody>\n",
       "    <tr>\n",
       "      <td>2020-06-24</td>\n",
       "      <td>-0.331218</td>\n",
       "      <td>1.004701</td>\n",
       "      <td>-0.806434</td>\n",
       "      <td>1.075640</td>\n",
       "    </tr>\n",
       "    <tr>\n",
       "      <td>2020-06-25</td>\n",
       "      <td>-0.054888</td>\n",
       "      <td>-0.820326</td>\n",
       "      <td>-1.289760</td>\n",
       "      <td>-0.859993</td>\n",
       "    </tr>\n",
       "    <tr>\n",
       "      <td>2020-06-26</td>\n",
       "      <td>-0.150513</td>\n",
       "      <td>-1.220225</td>\n",
       "      <td>0.311958</td>\n",
       "      <td>-1.338047</td>\n",
       "    </tr>\n",
       "    <tr>\n",
       "      <td>2020-06-27</td>\n",
       "      <td>0.386758</td>\n",
       "      <td>-0.656277</td>\n",
       "      <td>0.403239</td>\n",
       "      <td>-0.389909</td>\n",
       "    </tr>\n",
       "    <tr>\n",
       "      <td>2020-06-28</td>\n",
       "      <td>-0.902993</td>\n",
       "      <td>-0.648694</td>\n",
       "      <td>0.012533</td>\n",
       "      <td>0.407651</td>\n",
       "    </tr>\n",
       "    <tr>\n",
       "      <td>2020-06-29</td>\n",
       "      <td>0.949837</td>\n",
       "      <td>-0.714591</td>\n",
       "      <td>-0.979485</td>\n",
       "      <td>-0.409951</td>\n",
       "    </tr>\n",
       "    <tr>\n",
       "      <td>2020-06-30</td>\n",
       "      <td>0.703265</td>\n",
       "      <td>-1.205490</td>\n",
       "      <td>-0.535695</td>\n",
       "      <td>-0.342765</td>\n",
       "    </tr>\n",
       "    <tr>\n",
       "      <td>2020-07-01</td>\n",
       "      <td>0.042035</td>\n",
       "      <td>0.440828</td>\n",
       "      <td>-0.113028</td>\n",
       "      <td>0.624919</td>\n",
       "    </tr>\n",
       "    <tr>\n",
       "      <td>2020-07-02</td>\n",
       "      <td>-1.117941</td>\n",
       "      <td>-1.985915</td>\n",
       "      <td>0.557252</td>\n",
       "      <td>1.256962</td>\n",
       "    </tr>\n",
       "    <tr>\n",
       "      <td>2020-07-03</td>\n",
       "      <td>1.041441</td>\n",
       "      <td>-0.342696</td>\n",
       "      <td>-1.351080</td>\n",
       "      <td>-0.144210</td>\n",
       "    </tr>\n",
       "  </tbody>\n",
       "</table>\n",
       "</div>"
      ],
      "text/plain": [
       "                   D         C         B         A\n",
       "2020-06-24 -0.331218  1.004701 -0.806434  1.075640\n",
       "2020-06-25 -0.054888 -0.820326 -1.289760 -0.859993\n",
       "2020-06-26 -0.150513 -1.220225  0.311958 -1.338047\n",
       "2020-06-27  0.386758 -0.656277  0.403239 -0.389909\n",
       "2020-06-28 -0.902993 -0.648694  0.012533  0.407651\n",
       "2020-06-29  0.949837 -0.714591 -0.979485 -0.409951\n",
       "2020-06-30  0.703265 -1.205490 -0.535695 -0.342765\n",
       "2020-07-01  0.042035  0.440828 -0.113028  0.624919\n",
       "2020-07-02 -1.117941 -1.985915  0.557252  1.256962\n",
       "2020-07-03  1.041441 -0.342696 -1.351080 -0.144210"
      ]
     },
     "execution_count": 15,
     "metadata": {},
     "output_type": "execute_result"
    }
   ],
   "source": [
    "df.sort_index(axis=1, ascending=False) #Sorting the index of dataframe#"
   ]
  },
  {
   "cell_type": "code",
   "execution_count": 16,
   "metadata": {},
   "outputs": [
    {
     "data": {
      "text/html": [
       "<div>\n",
       "<style scoped>\n",
       "    .dataframe tbody tr th:only-of-type {\n",
       "        vertical-align: middle;\n",
       "    }\n",
       "\n",
       "    .dataframe tbody tr th {\n",
       "        vertical-align: top;\n",
       "    }\n",
       "\n",
       "    .dataframe thead th {\n",
       "        text-align: right;\n",
       "    }\n",
       "</style>\n",
       "<table border=\"1\" class=\"dataframe\">\n",
       "  <thead>\n",
       "    <tr style=\"text-align: right;\">\n",
       "      <th></th>\n",
       "      <th>A</th>\n",
       "      <th>B</th>\n",
       "      <th>C</th>\n",
       "      <th>D</th>\n",
       "    </tr>\n",
       "  </thead>\n",
       "  <tbody>\n",
       "    <tr>\n",
       "      <td>2020-06-24</td>\n",
       "      <td>1.075640</td>\n",
       "      <td>-0.806434</td>\n",
       "      <td>1.004701</td>\n",
       "      <td>-0.331218</td>\n",
       "    </tr>\n",
       "    <tr>\n",
       "      <td>2020-06-25</td>\n",
       "      <td>-0.859993</td>\n",
       "      <td>-1.289760</td>\n",
       "      <td>-0.820326</td>\n",
       "      <td>-0.054888</td>\n",
       "    </tr>\n",
       "    <tr>\n",
       "      <td>2020-06-26</td>\n",
       "      <td>-1.338047</td>\n",
       "      <td>0.311958</td>\n",
       "      <td>-1.220225</td>\n",
       "      <td>-0.150513</td>\n",
       "    </tr>\n",
       "    <tr>\n",
       "      <td>2020-06-27</td>\n",
       "      <td>-0.389909</td>\n",
       "      <td>0.403239</td>\n",
       "      <td>-0.656277</td>\n",
       "      <td>0.386758</td>\n",
       "    </tr>\n",
       "    <tr>\n",
       "      <td>2020-06-28</td>\n",
       "      <td>0.407651</td>\n",
       "      <td>0.012533</td>\n",
       "      <td>-0.648694</td>\n",
       "      <td>-0.902993</td>\n",
       "    </tr>\n",
       "    <tr>\n",
       "      <td>2020-06-29</td>\n",
       "      <td>-0.409951</td>\n",
       "      <td>-0.979485</td>\n",
       "      <td>-0.714591</td>\n",
       "      <td>0.949837</td>\n",
       "    </tr>\n",
       "    <tr>\n",
       "      <td>2020-06-30</td>\n",
       "      <td>-0.342765</td>\n",
       "      <td>-0.535695</td>\n",
       "      <td>-1.205490</td>\n",
       "      <td>0.703265</td>\n",
       "    </tr>\n",
       "    <tr>\n",
       "      <td>2020-07-01</td>\n",
       "      <td>0.624919</td>\n",
       "      <td>-0.113028</td>\n",
       "      <td>0.440828</td>\n",
       "      <td>0.042035</td>\n",
       "    </tr>\n",
       "    <tr>\n",
       "      <td>2020-07-02</td>\n",
       "      <td>1.256962</td>\n",
       "      <td>0.557252</td>\n",
       "      <td>-1.985915</td>\n",
       "      <td>-1.117941</td>\n",
       "    </tr>\n",
       "    <tr>\n",
       "      <td>2020-07-03</td>\n",
       "      <td>-0.144210</td>\n",
       "      <td>-1.351080</td>\n",
       "      <td>-0.342696</td>\n",
       "      <td>1.041441</td>\n",
       "    </tr>\n",
       "  </tbody>\n",
       "</table>\n",
       "</div>"
      ],
      "text/plain": [
       "                   A         B         C         D\n",
       "2020-06-24  1.075640 -0.806434  1.004701 -0.331218\n",
       "2020-06-25 -0.859993 -1.289760 -0.820326 -0.054888\n",
       "2020-06-26 -1.338047  0.311958 -1.220225 -0.150513\n",
       "2020-06-27 -0.389909  0.403239 -0.656277  0.386758\n",
       "2020-06-28  0.407651  0.012533 -0.648694 -0.902993\n",
       "2020-06-29 -0.409951 -0.979485 -0.714591  0.949837\n",
       "2020-06-30 -0.342765 -0.535695 -1.205490  0.703265\n",
       "2020-07-01  0.624919 -0.113028  0.440828  0.042035\n",
       "2020-07-02  1.256962  0.557252 -1.985915 -1.117941\n",
       "2020-07-03 -0.144210 -1.351080 -0.342696  1.041441"
      ]
     },
     "execution_count": 16,
     "metadata": {},
     "output_type": "execute_result"
    }
   ],
   "source": [
    "df.sort_index(axis=1, ascending=True) #Sorting the index of dataframe#"
   ]
  },
  {
   "cell_type": "code",
   "execution_count": 17,
   "metadata": {},
   "outputs": [
    {
     "data": {
      "text/plain": [
       "2020-06-24    1.004701\n",
       "2020-06-25   -0.820326\n",
       "2020-06-26   -1.220225\n",
       "2020-06-27   -0.656277\n",
       "2020-06-28   -0.648694\n",
       "2020-06-29   -0.714591\n",
       "2020-06-30   -1.205490\n",
       "2020-07-01    0.440828\n",
       "2020-07-02   -1.985915\n",
       "2020-07-03   -0.342696\n",
       "Freq: D, Name: C, dtype: float64"
      ]
     },
     "execution_count": 17,
     "metadata": {},
     "output_type": "execute_result"
    }
   ],
   "source": [
    "df['C'] #Data from single column#"
   ]
  },
  {
   "cell_type": "code",
   "execution_count": 18,
   "metadata": {},
   "outputs": [
    {
     "data": {
      "text/html": [
       "<div>\n",
       "<style scoped>\n",
       "    .dataframe tbody tr th:only-of-type {\n",
       "        vertical-align: middle;\n",
       "    }\n",
       "\n",
       "    .dataframe tbody tr th {\n",
       "        vertical-align: top;\n",
       "    }\n",
       "\n",
       "    .dataframe thead th {\n",
       "        text-align: right;\n",
       "    }\n",
       "</style>\n",
       "<table border=\"1\" class=\"dataframe\">\n",
       "  <thead>\n",
       "    <tr style=\"text-align: right;\">\n",
       "      <th></th>\n",
       "      <th>A</th>\n",
       "      <th>B</th>\n",
       "      <th>C</th>\n",
       "      <th>D</th>\n",
       "    </tr>\n",
       "  </thead>\n",
       "  <tbody>\n",
       "    <tr>\n",
       "      <td>2020-06-24</td>\n",
       "      <td>1.075640</td>\n",
       "      <td>-0.806434</td>\n",
       "      <td>1.004701</td>\n",
       "      <td>-0.331218</td>\n",
       "    </tr>\n",
       "    <tr>\n",
       "      <td>2020-06-25</td>\n",
       "      <td>-0.859993</td>\n",
       "      <td>-1.289760</td>\n",
       "      <td>-0.820326</td>\n",
       "      <td>-0.054888</td>\n",
       "    </tr>\n",
       "    <tr>\n",
       "      <td>2020-06-26</td>\n",
       "      <td>-1.338047</td>\n",
       "      <td>0.311958</td>\n",
       "      <td>-1.220225</td>\n",
       "      <td>-0.150513</td>\n",
       "    </tr>\n",
       "    <tr>\n",
       "      <td>2020-06-27</td>\n",
       "      <td>-0.389909</td>\n",
       "      <td>0.403239</td>\n",
       "      <td>-0.656277</td>\n",
       "      <td>0.386758</td>\n",
       "    </tr>\n",
       "  </tbody>\n",
       "</table>\n",
       "</div>"
      ],
      "text/plain": [
       "                   A         B         C         D\n",
       "2020-06-24  1.075640 -0.806434  1.004701 -0.331218\n",
       "2020-06-25 -0.859993 -1.289760 -0.820326 -0.054888\n",
       "2020-06-26 -1.338047  0.311958 -1.220225 -0.150513\n",
       "2020-06-27 -0.389909  0.403239 -0.656277  0.386758"
      ]
     },
     "execution_count": 18,
     "metadata": {},
     "output_type": "execute_result"
    }
   ],
   "source": [
    "df[0:4]  #Selecting row of data#"
   ]
  },
  {
   "cell_type": "code",
   "execution_count": 19,
   "metadata": {},
   "outputs": [
    {
     "data": {
      "text/plain": [
       "A   -1.338047\n",
       "B    0.311958\n",
       "C   -1.220225\n",
       "D   -0.150513\n",
       "Name: 2020-06-26 00:00:00, dtype: float64"
      ]
     },
     "execution_count": 19,
     "metadata": {},
     "output_type": "execute_result"
    }
   ],
   "source": [
    "df.loc[d[2]] #Selecting single-row of data#"
   ]
  },
  {
   "cell_type": "code",
   "execution_count": 20,
   "metadata": {},
   "outputs": [
    {
     "data": {
      "text/html": [
       "<div>\n",
       "<style scoped>\n",
       "    .dataframe tbody tr th:only-of-type {\n",
       "        vertical-align: middle;\n",
       "    }\n",
       "\n",
       "    .dataframe tbody tr th {\n",
       "        vertical-align: top;\n",
       "    }\n",
       "\n",
       "    .dataframe thead th {\n",
       "        text-align: right;\n",
       "    }\n",
       "</style>\n",
       "<table border=\"1\" class=\"dataframe\">\n",
       "  <thead>\n",
       "    <tr style=\"text-align: right;\">\n",
       "      <th></th>\n",
       "      <th>A</th>\n",
       "      <th>C</th>\n",
       "    </tr>\n",
       "  </thead>\n",
       "  <tbody>\n",
       "    <tr>\n",
       "      <td>2020-06-24</td>\n",
       "      <td>1.075640</td>\n",
       "      <td>1.004701</td>\n",
       "    </tr>\n",
       "    <tr>\n",
       "      <td>2020-06-25</td>\n",
       "      <td>-0.859993</td>\n",
       "      <td>-0.820326</td>\n",
       "    </tr>\n",
       "    <tr>\n",
       "      <td>2020-06-26</td>\n",
       "      <td>-1.338047</td>\n",
       "      <td>-1.220225</td>\n",
       "    </tr>\n",
       "    <tr>\n",
       "      <td>2020-06-27</td>\n",
       "      <td>-0.389909</td>\n",
       "      <td>-0.656277</td>\n",
       "    </tr>\n",
       "    <tr>\n",
       "      <td>2020-06-28</td>\n",
       "      <td>0.407651</td>\n",
       "      <td>-0.648694</td>\n",
       "    </tr>\n",
       "    <tr>\n",
       "      <td>2020-06-29</td>\n",
       "      <td>-0.409951</td>\n",
       "      <td>-0.714591</td>\n",
       "    </tr>\n",
       "    <tr>\n",
       "      <td>2020-06-30</td>\n",
       "      <td>-0.342765</td>\n",
       "      <td>-1.205490</td>\n",
       "    </tr>\n",
       "    <tr>\n",
       "      <td>2020-07-01</td>\n",
       "      <td>0.624919</td>\n",
       "      <td>0.440828</td>\n",
       "    </tr>\n",
       "    <tr>\n",
       "      <td>2020-07-02</td>\n",
       "      <td>1.256962</td>\n",
       "      <td>-1.985915</td>\n",
       "    </tr>\n",
       "    <tr>\n",
       "      <td>2020-07-03</td>\n",
       "      <td>-0.144210</td>\n",
       "      <td>-0.342696</td>\n",
       "    </tr>\n",
       "  </tbody>\n",
       "</table>\n",
       "</div>"
      ],
      "text/plain": [
       "                   A         C\n",
       "2020-06-24  1.075640  1.004701\n",
       "2020-06-25 -0.859993 -0.820326\n",
       "2020-06-26 -1.338047 -1.220225\n",
       "2020-06-27 -0.389909 -0.656277\n",
       "2020-06-28  0.407651 -0.648694\n",
       "2020-06-29 -0.409951 -0.714591\n",
       "2020-06-30 -0.342765 -1.205490\n",
       "2020-07-01  0.624919  0.440828\n",
       "2020-07-02  1.256962 -1.985915\n",
       "2020-07-03 -0.144210 -0.342696"
      ]
     },
     "execution_count": 20,
     "metadata": {},
     "output_type": "execute_result"
    }
   ],
   "source": [
    "df.loc[:,['A','C']] #Getting data using the name of column#"
   ]
  },
  {
   "cell_type": "code",
   "execution_count": 21,
   "metadata": {},
   "outputs": [
    {
     "data": {
      "text/html": [
       "<div>\n",
       "<style scoped>\n",
       "    .dataframe tbody tr th:only-of-type {\n",
       "        vertical-align: middle;\n",
       "    }\n",
       "\n",
       "    .dataframe tbody tr th {\n",
       "        vertical-align: top;\n",
       "    }\n",
       "\n",
       "    .dataframe thead th {\n",
       "        text-align: right;\n",
       "    }\n",
       "</style>\n",
       "<table border=\"1\" class=\"dataframe\">\n",
       "  <thead>\n",
       "    <tr style=\"text-align: right;\">\n",
       "      <th></th>\n",
       "      <th>A</th>\n",
       "      <th>C</th>\n",
       "    </tr>\n",
       "  </thead>\n",
       "  <tbody>\n",
       "    <tr>\n",
       "      <td>2020-06-26</td>\n",
       "      <td>-1.338047</td>\n",
       "      <td>-1.220225</td>\n",
       "    </tr>\n",
       "    <tr>\n",
       "      <td>2020-06-27</td>\n",
       "      <td>-0.389909</td>\n",
       "      <td>-0.656277</td>\n",
       "    </tr>\n",
       "    <tr>\n",
       "      <td>2020-06-28</td>\n",
       "      <td>0.407651</td>\n",
       "      <td>-0.648694</td>\n",
       "    </tr>\n",
       "    <tr>\n",
       "      <td>2020-06-29</td>\n",
       "      <td>-0.409951</td>\n",
       "      <td>-0.714591</td>\n",
       "    </tr>\n",
       "    <tr>\n",
       "      <td>2020-06-30</td>\n",
       "      <td>-0.342765</td>\n",
       "      <td>-1.205490</td>\n",
       "    </tr>\n",
       "  </tbody>\n",
       "</table>\n",
       "</div>"
      ],
      "text/plain": [
       "                   A         C\n",
       "2020-06-26 -1.338047 -1.220225\n",
       "2020-06-27 -0.389909 -0.656277\n",
       "2020-06-28  0.407651 -0.648694\n",
       "2020-06-29 -0.409951 -0.714591\n",
       "2020-06-30 -0.342765 -1.205490"
      ]
     },
     "execution_count": 21,
     "metadata": {},
     "output_type": "execute_result"
    }
   ],
   "source": [
    "df.loc['2020-06-26':'2020-06-30',['A','C']] #Getting data using the name of column and rows#"
   ]
  },
  {
   "cell_type": "code",
   "execution_count": 22,
   "metadata": {},
   "outputs": [
    {
     "data": {
      "text/plain": [
       "C   -0.648694\n",
       "Name: 2020-06-28 00:00:00, dtype: float64"
      ]
     },
     "execution_count": 22,
     "metadata": {},
     "output_type": "execute_result"
    }
   ],
   "source": [
    "df.loc['2020-06-28',['C']] #Getting data using the name of column and row#"
   ]
  },
  {
   "cell_type": "code",
   "execution_count": 23,
   "metadata": {},
   "outputs": [
    {
     "data": {
      "text/plain": [
       "C   -0.648694\n",
       "Name: 2020-06-28 00:00:00, dtype: float64"
      ]
     },
     "execution_count": 23,
     "metadata": {},
     "output_type": "execute_result"
    }
   ],
   "source": [
    "df.loc['2020-06-28',[df.columns[2]]]"
   ]
  },
  {
   "cell_type": "code",
   "execution_count": 24,
   "metadata": {},
   "outputs": [
    {
     "data": {
      "text/plain": [
       "C   -0.648694\n",
       "Name: 2020-06-28 00:00:00, dtype: float64"
      ]
     },
     "execution_count": 24,
     "metadata": {},
     "output_type": "execute_result"
    }
   ],
   "source": [
    "df.loc[df.index[4],[df.columns[2]]]"
   ]
  },
  {
   "cell_type": "code",
   "execution_count": 25,
   "metadata": {},
   "outputs": [
    {
     "data": {
      "text/html": [
       "<div>\n",
       "<style scoped>\n",
       "    .dataframe tbody tr th:only-of-type {\n",
       "        vertical-align: middle;\n",
       "    }\n",
       "\n",
       "    .dataframe tbody tr th {\n",
       "        vertical-align: top;\n",
       "    }\n",
       "\n",
       "    .dataframe thead th {\n",
       "        text-align: right;\n",
       "    }\n",
       "</style>\n",
       "<table border=\"1\" class=\"dataframe\">\n",
       "  <thead>\n",
       "    <tr style=\"text-align: right;\">\n",
       "      <th></th>\n",
       "      <th>C</th>\n",
       "    </tr>\n",
       "  </thead>\n",
       "  <tbody>\n",
       "    <tr>\n",
       "      <td>2020-06-28</td>\n",
       "      <td>-0.648694</td>\n",
       "    </tr>\n",
       "    <tr>\n",
       "      <td>2020-06-29</td>\n",
       "      <td>-0.714591</td>\n",
       "    </tr>\n",
       "    <tr>\n",
       "      <td>2020-06-30</td>\n",
       "      <td>-1.205490</td>\n",
       "    </tr>\n",
       "  </tbody>\n",
       "</table>\n",
       "</div>"
      ],
      "text/plain": [
       "                   C\n",
       "2020-06-28 -0.648694\n",
       "2020-06-29 -0.714591\n",
       "2020-06-30 -1.205490"
      ]
     },
     "execution_count": 25,
     "metadata": {},
     "output_type": "execute_result"
    }
   ],
   "source": [
    "df.loc[df.index[4:7],[df.columns[2]]]"
   ]
  },
  {
   "cell_type": "code",
   "execution_count": 26,
   "metadata": {},
   "outputs": [
    {
     "data": {
      "text/plain": [
       "-0.6486940483503271"
      ]
     },
     "execution_count": 26,
     "metadata": {},
     "output_type": "execute_result"
    }
   ],
   "source": [
    "df.at['2020-06-28','C']"
   ]
  },
  {
   "cell_type": "code",
   "execution_count": 27,
   "metadata": {},
   "outputs": [
    {
     "data": {
      "text/plain": [
       "-0.6486940483503271"
      ]
     },
     "execution_count": 27,
     "metadata": {},
     "output_type": "execute_result"
    }
   ],
   "source": [
    "df.at['2020-06-28',df.columns[2]]"
   ]
  },
  {
   "cell_type": "code",
   "execution_count": 28,
   "metadata": {},
   "outputs": [
    {
     "data": {
      "text/plain": [
       "-0.6486940483503271"
      ]
     },
     "execution_count": 28,
     "metadata": {},
     "output_type": "execute_result"
    }
   ],
   "source": [
    "df.at[df.index[4],df.columns[2]]"
   ]
  },
  {
   "cell_type": "code",
   "execution_count": 29,
   "metadata": {},
   "outputs": [
    {
     "data": {
      "text/plain": [
       "A   -0.389909\n",
       "B    0.403239\n",
       "C   -0.656277\n",
       "D    0.386758\n",
       "Name: 2020-06-27 00:00:00, dtype: float64"
      ]
     },
     "execution_count": 29,
     "metadata": {},
     "output_type": "execute_result"
    }
   ],
   "source": [
    "df.iloc[3] #easier method to access data#"
   ]
  },
  {
   "cell_type": "code",
   "execution_count": 30,
   "metadata": {},
   "outputs": [
    {
     "data": {
      "text/plain": [
       "-0.6562766683948676"
      ]
     },
     "execution_count": 30,
     "metadata": {},
     "output_type": "execute_result"
    }
   ],
   "source": [
    "df.iloc[3][2] "
   ]
  },
  {
   "cell_type": "code",
   "execution_count": 31,
   "metadata": {},
   "outputs": [
    {
     "data": {
      "text/html": [
       "<div>\n",
       "<style scoped>\n",
       "    .dataframe tbody tr th:only-of-type {\n",
       "        vertical-align: middle;\n",
       "    }\n",
       "\n",
       "    .dataframe tbody tr th {\n",
       "        vertical-align: top;\n",
       "    }\n",
       "\n",
       "    .dataframe thead th {\n",
       "        text-align: right;\n",
       "    }\n",
       "</style>\n",
       "<table border=\"1\" class=\"dataframe\">\n",
       "  <thead>\n",
       "    <tr style=\"text-align: right;\">\n",
       "      <th></th>\n",
       "      <th>A</th>\n",
       "      <th>B</th>\n",
       "      <th>C</th>\n",
       "      <th>D</th>\n",
       "    </tr>\n",
       "  </thead>\n",
       "  <tbody>\n",
       "    <tr>\n",
       "      <td>2020-06-24</td>\n",
       "      <td>1.075640</td>\n",
       "      <td>-0.806434</td>\n",
       "      <td>1.004701</td>\n",
       "      <td>-0.331218</td>\n",
       "    </tr>\n",
       "    <tr>\n",
       "      <td>2020-06-25</td>\n",
       "      <td>-0.859993</td>\n",
       "      <td>-1.289760</td>\n",
       "      <td>-0.820326</td>\n",
       "      <td>-0.054888</td>\n",
       "    </tr>\n",
       "    <tr>\n",
       "      <td>2020-06-26</td>\n",
       "      <td>-1.338047</td>\n",
       "      <td>0.311958</td>\n",
       "      <td>-1.220225</td>\n",
       "      <td>-0.150513</td>\n",
       "    </tr>\n",
       "    <tr>\n",
       "      <td>2020-06-27</td>\n",
       "      <td>-0.389909</td>\n",
       "      <td>0.403239</td>\n",
       "      <td>-0.656277</td>\n",
       "      <td>0.386758</td>\n",
       "    </tr>\n",
       "    <tr>\n",
       "      <td>2020-06-28</td>\n",
       "      <td>0.407651</td>\n",
       "      <td>0.012533</td>\n",
       "      <td>-0.648694</td>\n",
       "      <td>-0.902993</td>\n",
       "    </tr>\n",
       "    <tr>\n",
       "      <td>2020-06-29</td>\n",
       "      <td>-0.409951</td>\n",
       "      <td>-0.979485</td>\n",
       "      <td>-0.714591</td>\n",
       "      <td>0.949837</td>\n",
       "    </tr>\n",
       "    <tr>\n",
       "      <td>2020-06-30</td>\n",
       "      <td>-0.342765</td>\n",
       "      <td>-0.535695</td>\n",
       "      <td>-1.205490</td>\n",
       "      <td>0.703265</td>\n",
       "    </tr>\n",
       "    <tr>\n",
       "      <td>2020-07-01</td>\n",
       "      <td>0.624919</td>\n",
       "      <td>-0.113028</td>\n",
       "      <td>0.440828</td>\n",
       "      <td>0.042035</td>\n",
       "    </tr>\n",
       "    <tr>\n",
       "      <td>2020-07-02</td>\n",
       "      <td>1.256962</td>\n",
       "      <td>0.557252</td>\n",
       "      <td>-1.985915</td>\n",
       "      <td>-1.117941</td>\n",
       "    </tr>\n",
       "    <tr>\n",
       "      <td>2020-07-03</td>\n",
       "      <td>-0.144210</td>\n",
       "      <td>-1.351080</td>\n",
       "      <td>-0.342696</td>\n",
       "      <td>1.041441</td>\n",
       "    </tr>\n",
       "  </tbody>\n",
       "</table>\n",
       "</div>"
      ],
      "text/plain": [
       "                   A         B         C         D\n",
       "2020-06-24  1.075640 -0.806434  1.004701 -0.331218\n",
       "2020-06-25 -0.859993 -1.289760 -0.820326 -0.054888\n",
       "2020-06-26 -1.338047  0.311958 -1.220225 -0.150513\n",
       "2020-06-27 -0.389909  0.403239 -0.656277  0.386758\n",
       "2020-06-28  0.407651  0.012533 -0.648694 -0.902993\n",
       "2020-06-29 -0.409951 -0.979485 -0.714591  0.949837\n",
       "2020-06-30 -0.342765 -0.535695 -1.205490  0.703265\n",
       "2020-07-01  0.624919 -0.113028  0.440828  0.042035\n",
       "2020-07-02  1.256962  0.557252 -1.985915 -1.117941\n",
       "2020-07-03 -0.144210 -1.351080 -0.342696  1.041441"
      ]
     },
     "execution_count": 31,
     "metadata": {},
     "output_type": "execute_result"
    }
   ],
   "source": [
    "df"
   ]
  },
  {
   "cell_type": "code",
   "execution_count": 32,
   "metadata": {},
   "outputs": [
    {
     "data": {
      "text/html": [
       "<div>\n",
       "<style scoped>\n",
       "    .dataframe tbody tr th:only-of-type {\n",
       "        vertical-align: middle;\n",
       "    }\n",
       "\n",
       "    .dataframe tbody tr th {\n",
       "        vertical-align: top;\n",
       "    }\n",
       "\n",
       "    .dataframe thead th {\n",
       "        text-align: right;\n",
       "    }\n",
       "</style>\n",
       "<table border=\"1\" class=\"dataframe\">\n",
       "  <thead>\n",
       "    <tr style=\"text-align: right;\">\n",
       "      <th></th>\n",
       "      <th>A</th>\n",
       "      <th>B</th>\n",
       "      <th>C</th>\n",
       "      <th>D</th>\n",
       "    </tr>\n",
       "  </thead>\n",
       "  <tbody>\n",
       "    <tr>\n",
       "      <td>2020-06-24</td>\n",
       "      <td>1.075640</td>\n",
       "      <td>-0.806434</td>\n",
       "      <td>1.004701</td>\n",
       "      <td>-0.331218</td>\n",
       "    </tr>\n",
       "    <tr>\n",
       "      <td>2020-06-25</td>\n",
       "      <td>-0.859993</td>\n",
       "      <td>-1.289760</td>\n",
       "      <td>-0.820326</td>\n",
       "      <td>-0.054888</td>\n",
       "    </tr>\n",
       "    <tr>\n",
       "      <td>2020-06-26</td>\n",
       "      <td>-1.338047</td>\n",
       "      <td>0.311958</td>\n",
       "      <td>-1.220225</td>\n",
       "      <td>-0.150513</td>\n",
       "    </tr>\n",
       "    <tr>\n",
       "      <td>2020-06-27</td>\n",
       "      <td>-0.389909</td>\n",
       "      <td>0.403239</td>\n",
       "      <td>-0.656277</td>\n",
       "      <td>0.386758</td>\n",
       "    </tr>\n",
       "    <tr>\n",
       "      <td>2020-06-28</td>\n",
       "      <td>0.407651</td>\n",
       "      <td>0.012533</td>\n",
       "      <td>-0.648694</td>\n",
       "      <td>-0.902993</td>\n",
       "    </tr>\n",
       "    <tr>\n",
       "      <td>2020-06-29</td>\n",
       "      <td>-0.409951</td>\n",
       "      <td>-0.979485</td>\n",
       "      <td>-0.714591</td>\n",
       "      <td>0.949837</td>\n",
       "    </tr>\n",
       "    <tr>\n",
       "      <td>2020-06-30</td>\n",
       "      <td>-0.342765</td>\n",
       "      <td>-0.535695</td>\n",
       "      <td>-1.205490</td>\n",
       "      <td>0.703265</td>\n",
       "    </tr>\n",
       "  </tbody>\n",
       "</table>\n",
       "</div>"
      ],
      "text/plain": [
       "                   A         B         C         D\n",
       "2020-06-24  1.075640 -0.806434  1.004701 -0.331218\n",
       "2020-06-25 -0.859993 -1.289760 -0.820326 -0.054888\n",
       "2020-06-26 -1.338047  0.311958 -1.220225 -0.150513\n",
       "2020-06-27 -0.389909  0.403239 -0.656277  0.386758\n",
       "2020-06-28  0.407651  0.012533 -0.648694 -0.902993\n",
       "2020-06-29 -0.409951 -0.979485 -0.714591  0.949837\n",
       "2020-06-30 -0.342765 -0.535695 -1.205490  0.703265"
      ]
     },
     "execution_count": 32,
     "metadata": {},
     "output_type": "execute_result"
    }
   ],
   "source": [
    "df.iloc[0:7][0:7]  #its always in form of array range in both feilds has to be equal#"
   ]
  },
  {
   "cell_type": "code",
   "execution_count": 33,
   "metadata": {},
   "outputs": [
    {
     "data": {
      "text/html": [
       "<div>\n",
       "<style scoped>\n",
       "    .dataframe tbody tr th:only-of-type {\n",
       "        vertical-align: middle;\n",
       "    }\n",
       "\n",
       "    .dataframe tbody tr th {\n",
       "        vertical-align: top;\n",
       "    }\n",
       "\n",
       "    .dataframe thead th {\n",
       "        text-align: right;\n",
       "    }\n",
       "</style>\n",
       "<table border=\"1\" class=\"dataframe\">\n",
       "  <thead>\n",
       "    <tr style=\"text-align: right;\">\n",
       "      <th></th>\n",
       "      <th>A</th>\n",
       "      <th>B</th>\n",
       "      <th>C</th>\n",
       "      <th>D</th>\n",
       "    </tr>\n",
       "  </thead>\n",
       "  <tbody>\n",
       "    <tr>\n",
       "      <td>2020-06-29</td>\n",
       "      <td>-0.409951</td>\n",
       "      <td>-0.979485</td>\n",
       "      <td>-0.714591</td>\n",
       "      <td>0.949837</td>\n",
       "    </tr>\n",
       "    <tr>\n",
       "      <td>2020-06-30</td>\n",
       "      <td>-0.342765</td>\n",
       "      <td>-0.535695</td>\n",
       "      <td>-1.205490</td>\n",
       "      <td>0.703265</td>\n",
       "    </tr>\n",
       "  </tbody>\n",
       "</table>\n",
       "</div>"
      ],
      "text/plain": [
       "                   A         B         C         D\n",
       "2020-06-29 -0.409951 -0.979485 -0.714591  0.949837\n",
       "2020-06-30 -0.342765 -0.535695 -1.205490  0.703265"
      ]
     },
     "execution_count": 33,
     "metadata": {},
     "output_type": "execute_result"
    }
   ],
   "source": [
    "df.iloc[5:7][0:2]"
   ]
  },
  {
   "cell_type": "code",
   "execution_count": 34,
   "metadata": {},
   "outputs": [
    {
     "data": {
      "text/html": [
       "<div>\n",
       "<style scoped>\n",
       "    .dataframe tbody tr th:only-of-type {\n",
       "        vertical-align: middle;\n",
       "    }\n",
       "\n",
       "    .dataframe tbody tr th {\n",
       "        vertical-align: top;\n",
       "    }\n",
       "\n",
       "    .dataframe thead th {\n",
       "        text-align: right;\n",
       "    }\n",
       "</style>\n",
       "<table border=\"1\" class=\"dataframe\">\n",
       "  <thead>\n",
       "    <tr style=\"text-align: right;\">\n",
       "      <th></th>\n",
       "      <th>A</th>\n",
       "      <th>B</th>\n",
       "      <th>C</th>\n",
       "      <th>D</th>\n",
       "    </tr>\n",
       "  </thead>\n",
       "  <tbody>\n",
       "    <tr>\n",
       "      <td>2020-06-24</td>\n",
       "      <td>1.075640</td>\n",
       "      <td>-0.806434</td>\n",
       "      <td>1.004701</td>\n",
       "      <td>-0.331218</td>\n",
       "    </tr>\n",
       "    <tr>\n",
       "      <td>2020-06-28</td>\n",
       "      <td>0.407651</td>\n",
       "      <td>0.012533</td>\n",
       "      <td>-0.648694</td>\n",
       "      <td>-0.902993</td>\n",
       "    </tr>\n",
       "    <tr>\n",
       "      <td>2020-07-01</td>\n",
       "      <td>0.624919</td>\n",
       "      <td>-0.113028</td>\n",
       "      <td>0.440828</td>\n",
       "      <td>0.042035</td>\n",
       "    </tr>\n",
       "    <tr>\n",
       "      <td>2020-07-02</td>\n",
       "      <td>1.256962</td>\n",
       "      <td>0.557252</td>\n",
       "      <td>-1.985915</td>\n",
       "      <td>-1.117941</td>\n",
       "    </tr>\n",
       "  </tbody>\n",
       "</table>\n",
       "</div>"
      ],
      "text/plain": [
       "                   A         B         C         D\n",
       "2020-06-24  1.075640 -0.806434  1.004701 -0.331218\n",
       "2020-06-28  0.407651  0.012533 -0.648694 -0.902993\n",
       "2020-07-01  0.624919 -0.113028  0.440828  0.042035\n",
       "2020-07-02  1.256962  0.557252 -1.985915 -1.117941"
      ]
     },
     "execution_count": 34,
     "metadata": {},
     "output_type": "execute_result"
    }
   ],
   "source": [
    "df[df['A'] > 0] #printing all values in A that are ' > 0 ' #\n",
    "                #Boolean Indexing example#"
   ]
  },
  {
   "cell_type": "code",
   "execution_count": 35,
   "metadata": {},
   "outputs": [
    {
     "data": {
      "text/html": [
       "<div>\n",
       "<style scoped>\n",
       "    .dataframe tbody tr th:only-of-type {\n",
       "        vertical-align: middle;\n",
       "    }\n",
       "\n",
       "    .dataframe tbody tr th {\n",
       "        vertical-align: top;\n",
       "    }\n",
       "\n",
       "    .dataframe thead th {\n",
       "        text-align: right;\n",
       "    }\n",
       "</style>\n",
       "<table border=\"1\" class=\"dataframe\">\n",
       "  <thead>\n",
       "    <tr style=\"text-align: right;\">\n",
       "      <th></th>\n",
       "      <th>A</th>\n",
       "      <th>B</th>\n",
       "      <th>C</th>\n",
       "      <th>D</th>\n",
       "    </tr>\n",
       "  </thead>\n",
       "  <tbody>\n",
       "    <tr>\n",
       "      <td>2020-06-25</td>\n",
       "      <td>-0.859993</td>\n",
       "      <td>-1.289760</td>\n",
       "      <td>-0.820326</td>\n",
       "      <td>-0.054888</td>\n",
       "    </tr>\n",
       "    <tr>\n",
       "      <td>2020-06-26</td>\n",
       "      <td>-1.338047</td>\n",
       "      <td>0.311958</td>\n",
       "      <td>-1.220225</td>\n",
       "      <td>-0.150513</td>\n",
       "    </tr>\n",
       "    <tr>\n",
       "      <td>2020-06-27</td>\n",
       "      <td>-0.389909</td>\n",
       "      <td>0.403239</td>\n",
       "      <td>-0.656277</td>\n",
       "      <td>0.386758</td>\n",
       "    </tr>\n",
       "    <tr>\n",
       "      <td>2020-06-28</td>\n",
       "      <td>0.407651</td>\n",
       "      <td>0.012533</td>\n",
       "      <td>-0.648694</td>\n",
       "      <td>-0.902993</td>\n",
       "    </tr>\n",
       "    <tr>\n",
       "      <td>2020-06-29</td>\n",
       "      <td>-0.409951</td>\n",
       "      <td>-0.979485</td>\n",
       "      <td>-0.714591</td>\n",
       "      <td>0.949837</td>\n",
       "    </tr>\n",
       "    <tr>\n",
       "      <td>2020-06-30</td>\n",
       "      <td>-0.342765</td>\n",
       "      <td>-0.535695</td>\n",
       "      <td>-1.205490</td>\n",
       "      <td>0.703265</td>\n",
       "    </tr>\n",
       "    <tr>\n",
       "      <td>2020-07-01</td>\n",
       "      <td>0.624919</td>\n",
       "      <td>-0.113028</td>\n",
       "      <td>0.440828</td>\n",
       "      <td>0.042035</td>\n",
       "    </tr>\n",
       "    <tr>\n",
       "      <td>2020-07-02</td>\n",
       "      <td>1.256962</td>\n",
       "      <td>0.557252</td>\n",
       "      <td>-1.985915</td>\n",
       "      <td>-1.117941</td>\n",
       "    </tr>\n",
       "    <tr>\n",
       "      <td>2020-07-03</td>\n",
       "      <td>-0.144210</td>\n",
       "      <td>-1.351080</td>\n",
       "      <td>-0.342696</td>\n",
       "      <td>1.041441</td>\n",
       "    </tr>\n",
       "  </tbody>\n",
       "</table>\n",
       "</div>"
      ],
      "text/plain": [
       "                   A         B         C         D\n",
       "2020-06-25 -0.859993 -1.289760 -0.820326 -0.054888\n",
       "2020-06-26 -1.338047  0.311958 -1.220225 -0.150513\n",
       "2020-06-27 -0.389909  0.403239 -0.656277  0.386758\n",
       "2020-06-28  0.407651  0.012533 -0.648694 -0.902993\n",
       "2020-06-29 -0.409951 -0.979485 -0.714591  0.949837\n",
       "2020-06-30 -0.342765 -0.535695 -1.205490  0.703265\n",
       "2020-07-01  0.624919 -0.113028  0.440828  0.042035\n",
       "2020-07-02  1.256962  0.557252 -1.985915 -1.117941\n",
       "2020-07-03 -0.144210 -1.351080 -0.342696  1.041441"
      ]
     },
     "execution_count": 35,
     "metadata": {},
     "output_type": "execute_result"
    }
   ],
   "source": [
    "df[df['C'] < 1]"
   ]
  },
  {
   "cell_type": "code",
   "execution_count": 36,
   "metadata": {},
   "outputs": [],
   "source": [
    "df2 = df.reindex(index = d[0:4], columns = list(df.columns)+['E'])"
   ]
  },
  {
   "cell_type": "code",
   "execution_count": 37,
   "metadata": {},
   "outputs": [],
   "source": [
    "df2.loc[d[0]:d[1], 'E'] = 1 #Assigning column E with value 1#"
   ]
  },
  {
   "cell_type": "code",
   "execution_count": 38,
   "metadata": {},
   "outputs": [
    {
     "data": {
      "text/html": [
       "<div>\n",
       "<style scoped>\n",
       "    .dataframe tbody tr th:only-of-type {\n",
       "        vertical-align: middle;\n",
       "    }\n",
       "\n",
       "    .dataframe tbody tr th {\n",
       "        vertical-align: top;\n",
       "    }\n",
       "\n",
       "    .dataframe thead th {\n",
       "        text-align: right;\n",
       "    }\n",
       "</style>\n",
       "<table border=\"1\" class=\"dataframe\">\n",
       "  <thead>\n",
       "    <tr style=\"text-align: right;\">\n",
       "      <th></th>\n",
       "      <th>A</th>\n",
       "      <th>B</th>\n",
       "      <th>C</th>\n",
       "      <th>D</th>\n",
       "      <th>E</th>\n",
       "    </tr>\n",
       "  </thead>\n",
       "  <tbody>\n",
       "    <tr>\n",
       "      <td>2020-06-24</td>\n",
       "      <td>1.075640</td>\n",
       "      <td>-0.806434</td>\n",
       "      <td>1.004701</td>\n",
       "      <td>-0.331218</td>\n",
       "      <td>1.0</td>\n",
       "    </tr>\n",
       "    <tr>\n",
       "      <td>2020-06-25</td>\n",
       "      <td>-0.859993</td>\n",
       "      <td>-1.289760</td>\n",
       "      <td>-0.820326</td>\n",
       "      <td>-0.054888</td>\n",
       "      <td>1.0</td>\n",
       "    </tr>\n",
       "    <tr>\n",
       "      <td>2020-06-26</td>\n",
       "      <td>-1.338047</td>\n",
       "      <td>0.311958</td>\n",
       "      <td>-1.220225</td>\n",
       "      <td>-0.150513</td>\n",
       "      <td>NaN</td>\n",
       "    </tr>\n",
       "    <tr>\n",
       "      <td>2020-06-27</td>\n",
       "      <td>-0.389909</td>\n",
       "      <td>0.403239</td>\n",
       "      <td>-0.656277</td>\n",
       "      <td>0.386758</td>\n",
       "      <td>NaN</td>\n",
       "    </tr>\n",
       "  </tbody>\n",
       "</table>\n",
       "</div>"
      ],
      "text/plain": [
       "                   A         B         C         D    E\n",
       "2020-06-24  1.075640 -0.806434  1.004701 -0.331218  1.0\n",
       "2020-06-25 -0.859993 -1.289760 -0.820326 -0.054888  1.0\n",
       "2020-06-26 -1.338047  0.311958 -1.220225 -0.150513  NaN\n",
       "2020-06-27 -0.389909  0.403239 -0.656277  0.386758  NaN"
      ]
     },
     "execution_count": 38,
     "metadata": {},
     "output_type": "execute_result"
    }
   ],
   "source": [
    "df2"
   ]
  },
  {
   "cell_type": "code",
   "execution_count": 39,
   "metadata": {},
   "outputs": [
    {
     "data": {
      "text/html": [
       "<div>\n",
       "<style scoped>\n",
       "    .dataframe tbody tr th:only-of-type {\n",
       "        vertical-align: middle;\n",
       "    }\n",
       "\n",
       "    .dataframe tbody tr th {\n",
       "        vertical-align: top;\n",
       "    }\n",
       "\n",
       "    .dataframe thead th {\n",
       "        text-align: right;\n",
       "    }\n",
       "</style>\n",
       "<table border=\"1\" class=\"dataframe\">\n",
       "  <thead>\n",
       "    <tr style=\"text-align: right;\">\n",
       "      <th></th>\n",
       "      <th>A</th>\n",
       "      <th>B</th>\n",
       "      <th>C</th>\n",
       "      <th>D</th>\n",
       "      <th>E</th>\n",
       "    </tr>\n",
       "  </thead>\n",
       "  <tbody>\n",
       "    <tr>\n",
       "      <td>2020-06-24</td>\n",
       "      <td>False</td>\n",
       "      <td>False</td>\n",
       "      <td>False</td>\n",
       "      <td>False</td>\n",
       "      <td>False</td>\n",
       "    </tr>\n",
       "    <tr>\n",
       "      <td>2020-06-25</td>\n",
       "      <td>False</td>\n",
       "      <td>False</td>\n",
       "      <td>False</td>\n",
       "      <td>False</td>\n",
       "      <td>False</td>\n",
       "    </tr>\n",
       "    <tr>\n",
       "      <td>2020-06-26</td>\n",
       "      <td>False</td>\n",
       "      <td>False</td>\n",
       "      <td>False</td>\n",
       "      <td>False</td>\n",
       "      <td>True</td>\n",
       "    </tr>\n",
       "    <tr>\n",
       "      <td>2020-06-27</td>\n",
       "      <td>False</td>\n",
       "      <td>False</td>\n",
       "      <td>False</td>\n",
       "      <td>False</td>\n",
       "      <td>True</td>\n",
       "    </tr>\n",
       "  </tbody>\n",
       "</table>\n",
       "</div>"
      ],
      "text/plain": [
       "                A      B      C      D      E\n",
       "2020-06-24  False  False  False  False  False\n",
       "2020-06-25  False  False  False  False  False\n",
       "2020-06-26  False  False  False  False   True\n",
       "2020-06-27  False  False  False  False   True"
      ]
     },
     "execution_count": 39,
     "metadata": {},
     "output_type": "execute_result"
    }
   ],
   "source": [
    "df2.isnull() #Checking for presence of Null values#"
   ]
  },
  {
   "cell_type": "code",
   "execution_count": 40,
   "metadata": {},
   "outputs": [
    {
     "data": {
      "text/plain": [
       "A    4\n",
       "B    4\n",
       "C    4\n",
       "D    4\n",
       "E    4\n",
       "dtype: int64"
      ]
     },
     "execution_count": 40,
     "metadata": {},
     "output_type": "execute_result"
    }
   ],
   "source": [
    "df2.isnull().count() "
   ]
  },
  {
   "cell_type": "code",
   "execution_count": 41,
   "metadata": {},
   "outputs": [
    {
     "data": {
      "text/html": [
       "<div>\n",
       "<style scoped>\n",
       "    .dataframe tbody tr th:only-of-type {\n",
       "        vertical-align: middle;\n",
       "    }\n",
       "\n",
       "    .dataframe tbody tr th {\n",
       "        vertical-align: top;\n",
       "    }\n",
       "\n",
       "    .dataframe thead th {\n",
       "        text-align: right;\n",
       "    }\n",
       "</style>\n",
       "<table border=\"1\" class=\"dataframe\">\n",
       "  <thead>\n",
       "    <tr style=\"text-align: right;\">\n",
       "      <th></th>\n",
       "      <th>A</th>\n",
       "      <th>B</th>\n",
       "      <th>C</th>\n",
       "      <th>D</th>\n",
       "      <th>E</th>\n",
       "    </tr>\n",
       "  </thead>\n",
       "  <tbody>\n",
       "    <tr>\n",
       "      <td>2020-06-24</td>\n",
       "      <td>1.075640</td>\n",
       "      <td>-0.806434</td>\n",
       "      <td>1.004701</td>\n",
       "      <td>-0.331218</td>\n",
       "      <td>1.0</td>\n",
       "    </tr>\n",
       "    <tr>\n",
       "      <td>2020-06-25</td>\n",
       "      <td>-0.859993</td>\n",
       "      <td>-1.289760</td>\n",
       "      <td>-0.820326</td>\n",
       "      <td>-0.054888</td>\n",
       "      <td>1.0</td>\n",
       "    </tr>\n",
       "  </tbody>\n",
       "</table>\n",
       "</div>"
      ],
      "text/plain": [
       "                   A         B         C         D    E\n",
       "2020-06-24  1.075640 -0.806434  1.004701 -0.331218  1.0\n",
       "2020-06-25 -0.859993 -1.289760 -0.820326 -0.054888  1.0"
      ]
     },
     "execution_count": 41,
     "metadata": {},
     "output_type": "execute_result"
    }
   ],
   "source": [
    "df2.dropna() #Dropping columns with null values#"
   ]
  },
  {
   "cell_type": "code",
   "execution_count": 42,
   "metadata": {},
   "outputs": [
    {
     "data": {
      "text/html": [
       "<div>\n",
       "<style scoped>\n",
       "    .dataframe tbody tr th:only-of-type {\n",
       "        vertical-align: middle;\n",
       "    }\n",
       "\n",
       "    .dataframe tbody tr th {\n",
       "        vertical-align: top;\n",
       "    }\n",
       "\n",
       "    .dataframe thead th {\n",
       "        text-align: right;\n",
       "    }\n",
       "</style>\n",
       "<table border=\"1\" class=\"dataframe\">\n",
       "  <thead>\n",
       "    <tr style=\"text-align: right;\">\n",
       "      <th></th>\n",
       "      <th>A</th>\n",
       "      <th>B</th>\n",
       "      <th>C</th>\n",
       "      <th>D</th>\n",
       "      <th>E</th>\n",
       "    </tr>\n",
       "  </thead>\n",
       "  <tbody>\n",
       "    <tr>\n",
       "      <td>2020-06-24</td>\n",
       "      <td>1.075640</td>\n",
       "      <td>-0.806434</td>\n",
       "      <td>1.004701</td>\n",
       "      <td>-0.331218</td>\n",
       "      <td>1.0</td>\n",
       "    </tr>\n",
       "    <tr>\n",
       "      <td>2020-06-25</td>\n",
       "      <td>-0.859993</td>\n",
       "      <td>-1.289760</td>\n",
       "      <td>-0.820326</td>\n",
       "      <td>-0.054888</td>\n",
       "      <td>1.0</td>\n",
       "    </tr>\n",
       "    <tr>\n",
       "      <td>2020-06-26</td>\n",
       "      <td>-1.338047</td>\n",
       "      <td>0.311958</td>\n",
       "      <td>-1.220225</td>\n",
       "      <td>-0.150513</td>\n",
       "      <td>2.0</td>\n",
       "    </tr>\n",
       "    <tr>\n",
       "      <td>2020-06-27</td>\n",
       "      <td>-0.389909</td>\n",
       "      <td>0.403239</td>\n",
       "      <td>-0.656277</td>\n",
       "      <td>0.386758</td>\n",
       "      <td>2.0</td>\n",
       "    </tr>\n",
       "  </tbody>\n",
       "</table>\n",
       "</div>"
      ],
      "text/plain": [
       "                   A         B         C         D    E\n",
       "2020-06-24  1.075640 -0.806434  1.004701 -0.331218  1.0\n",
       "2020-06-25 -0.859993 -1.289760 -0.820326 -0.054888  1.0\n",
       "2020-06-26 -1.338047  0.311958 -1.220225 -0.150513  2.0\n",
       "2020-06-27 -0.389909  0.403239 -0.656277  0.386758  2.0"
      ]
     },
     "execution_count": 42,
     "metadata": {},
     "output_type": "execute_result"
    }
   ],
   "source": [
    "df2.fillna(value = 2)"
   ]
  },
  {
   "cell_type": "code",
   "execution_count": 43,
   "metadata": {},
   "outputs": [
    {
     "data": {
      "text/html": [
       "<div>\n",
       "<style scoped>\n",
       "    .dataframe tbody tr th:only-of-type {\n",
       "        vertical-align: middle;\n",
       "    }\n",
       "\n",
       "    .dataframe tbody tr th {\n",
       "        vertical-align: top;\n",
       "    }\n",
       "\n",
       "    .dataframe thead th {\n",
       "        text-align: right;\n",
       "    }\n",
       "</style>\n",
       "<table border=\"1\" class=\"dataframe\">\n",
       "  <thead>\n",
       "    <tr style=\"text-align: right;\">\n",
       "      <th></th>\n",
       "      <th>A</th>\n",
       "      <th>B</th>\n",
       "      <th>C</th>\n",
       "      <th>D</th>\n",
       "      <th>E</th>\n",
       "    </tr>\n",
       "  </thead>\n",
       "  <tbody>\n",
       "    <tr>\n",
       "      <td>2020-06-24</td>\n",
       "      <td>False</td>\n",
       "      <td>False</td>\n",
       "      <td>False</td>\n",
       "      <td>False</td>\n",
       "      <td>False</td>\n",
       "    </tr>\n",
       "    <tr>\n",
       "      <td>2020-06-25</td>\n",
       "      <td>False</td>\n",
       "      <td>False</td>\n",
       "      <td>False</td>\n",
       "      <td>False</td>\n",
       "      <td>False</td>\n",
       "    </tr>\n",
       "    <tr>\n",
       "      <td>2020-06-26</td>\n",
       "      <td>False</td>\n",
       "      <td>False</td>\n",
       "      <td>False</td>\n",
       "      <td>False</td>\n",
       "      <td>True</td>\n",
       "    </tr>\n",
       "    <tr>\n",
       "      <td>2020-06-27</td>\n",
       "      <td>False</td>\n",
       "      <td>False</td>\n",
       "      <td>False</td>\n",
       "      <td>False</td>\n",
       "      <td>True</td>\n",
       "    </tr>\n",
       "  </tbody>\n",
       "</table>\n",
       "</div>"
      ],
      "text/plain": [
       "                A      B      C      D      E\n",
       "2020-06-24  False  False  False  False  False\n",
       "2020-06-25  False  False  False  False  False\n",
       "2020-06-26  False  False  False  False   True\n",
       "2020-06-27  False  False  False  False   True"
      ]
     },
     "execution_count": 43,
     "metadata": {},
     "output_type": "execute_result"
    }
   ],
   "source": [
    "pd.isna(df2) #Boolean mask to check for presence of null value in dataframe#"
   ]
  },
  {
   "cell_type": "code",
   "execution_count": 44,
   "metadata": {},
   "outputs": [
    {
     "data": {
      "text/html": [
       "<div>\n",
       "<style scoped>\n",
       "    .dataframe tbody tr th:only-of-type {\n",
       "        vertical-align: middle;\n",
       "    }\n",
       "\n",
       "    .dataframe tbody tr th {\n",
       "        vertical-align: top;\n",
       "    }\n",
       "\n",
       "    .dataframe thead th {\n",
       "        text-align: right;\n",
       "    }\n",
       "</style>\n",
       "<table border=\"1\" class=\"dataframe\">\n",
       "  <thead>\n",
       "    <tr style=\"text-align: right;\">\n",
       "      <th></th>\n",
       "      <th>A</th>\n",
       "      <th>B</th>\n",
       "      <th>C</th>\n",
       "      <th>D</th>\n",
       "    </tr>\n",
       "  </thead>\n",
       "  <tbody>\n",
       "    <tr>\n",
       "      <td>2020-06-24</td>\n",
       "      <td>1.075640</td>\n",
       "      <td>-0.806434</td>\n",
       "      <td>1.004701</td>\n",
       "      <td>-0.331218</td>\n",
       "    </tr>\n",
       "    <tr>\n",
       "      <td>2020-06-25</td>\n",
       "      <td>-0.859993</td>\n",
       "      <td>-1.289760</td>\n",
       "      <td>-0.820326</td>\n",
       "      <td>-0.054888</td>\n",
       "    </tr>\n",
       "    <tr>\n",
       "      <td>2020-06-26</td>\n",
       "      <td>-1.338047</td>\n",
       "      <td>0.311958</td>\n",
       "      <td>-1.220225</td>\n",
       "      <td>-0.150513</td>\n",
       "    </tr>\n",
       "    <tr>\n",
       "      <td>2020-06-27</td>\n",
       "      <td>-0.389909</td>\n",
       "      <td>0.403239</td>\n",
       "      <td>-0.656277</td>\n",
       "      <td>0.386758</td>\n",
       "    </tr>\n",
       "    <tr>\n",
       "      <td>2020-06-28</td>\n",
       "      <td>0.407651</td>\n",
       "      <td>0.012533</td>\n",
       "      <td>-0.648694</td>\n",
       "      <td>-0.902993</td>\n",
       "    </tr>\n",
       "    <tr>\n",
       "      <td>2020-06-29</td>\n",
       "      <td>-0.409951</td>\n",
       "      <td>-0.979485</td>\n",
       "      <td>-0.714591</td>\n",
       "      <td>0.949837</td>\n",
       "    </tr>\n",
       "    <tr>\n",
       "      <td>2020-06-30</td>\n",
       "      <td>-0.342765</td>\n",
       "      <td>-0.535695</td>\n",
       "      <td>-1.205490</td>\n",
       "      <td>0.703265</td>\n",
       "    </tr>\n",
       "    <tr>\n",
       "      <td>2020-07-01</td>\n",
       "      <td>0.624919</td>\n",
       "      <td>-0.113028</td>\n",
       "      <td>0.440828</td>\n",
       "      <td>0.042035</td>\n",
       "    </tr>\n",
       "    <tr>\n",
       "      <td>2020-07-02</td>\n",
       "      <td>1.256962</td>\n",
       "      <td>0.557252</td>\n",
       "      <td>-1.985915</td>\n",
       "      <td>-1.117941</td>\n",
       "    </tr>\n",
       "    <tr>\n",
       "      <td>2020-07-03</td>\n",
       "      <td>-0.144210</td>\n",
       "      <td>-1.351080</td>\n",
       "      <td>-0.342696</td>\n",
       "      <td>1.041441</td>\n",
       "    </tr>\n",
       "  </tbody>\n",
       "</table>\n",
       "</div>"
      ],
      "text/plain": [
       "                   A         B         C         D\n",
       "2020-06-24  1.075640 -0.806434  1.004701 -0.331218\n",
       "2020-06-25 -0.859993 -1.289760 -0.820326 -0.054888\n",
       "2020-06-26 -1.338047  0.311958 -1.220225 -0.150513\n",
       "2020-06-27 -0.389909  0.403239 -0.656277  0.386758\n",
       "2020-06-28  0.407651  0.012533 -0.648694 -0.902993\n",
       "2020-06-29 -0.409951 -0.979485 -0.714591  0.949837\n",
       "2020-06-30 -0.342765 -0.535695 -1.205490  0.703265\n",
       "2020-07-01  0.624919 -0.113028  0.440828  0.042035\n",
       "2020-07-02  1.256962  0.557252 -1.985915 -1.117941\n",
       "2020-07-03 -0.144210 -1.351080 -0.342696  1.041441"
      ]
     },
     "execution_count": 44,
     "metadata": {},
     "output_type": "execute_result"
    }
   ],
   "source": [
    "df"
   ]
  },
  {
   "cell_type": "code",
   "execution_count": 45,
   "metadata": {},
   "outputs": [
    {
     "data": {
      "text/plain": [
       "A   -0.011970\n",
       "B   -0.379050\n",
       "C   -0.614868\n",
       "D    0.056578\n",
       "dtype: float64"
      ]
     },
     "execution_count": 45,
     "metadata": {},
     "output_type": "execute_result"
    }
   ],
   "source": [
    "df.mean() #finding mean of data#"
   ]
  },
  {
   "cell_type": "code",
   "execution_count": 46,
   "metadata": {},
   "outputs": [
    {
     "data": {
      "text/plain": [
       "2020-06-24    0.235672\n",
       "2020-06-25   -0.756242\n",
       "2020-06-26   -0.599207\n",
       "2020-06-27   -0.064047\n",
       "2020-06-28   -0.282876\n",
       "2020-06-29   -0.288548\n",
       "2020-06-30   -0.345171\n",
       "2020-07-01    0.248689\n",
       "2020-07-02   -0.322411\n",
       "2020-07-03   -0.199136\n",
       "Freq: D, dtype: float64"
      ]
     },
     "execution_count": 46,
     "metadata": {},
     "output_type": "execute_result"
    }
   ],
   "source": [
    "df.mean(1)"
   ]
  },
  {
   "cell_type": "code",
   "execution_count": 47,
   "metadata": {},
   "outputs": [
    {
     "data": {
      "text/plain": [
       "2020-06-24    NaN\n",
       "2020-06-25    NaN\n",
       "2020-06-26    1.0\n",
       "2020-06-27    2.0\n",
       "2020-06-28    3.0\n",
       "2020-06-29    NaN\n",
       "2020-06-30    4.0\n",
       "2020-07-01    5.0\n",
       "2020-07-02    6.0\n",
       "2020-07-03    7.0\n",
       "Freq: D, dtype: float64"
      ]
     },
     "execution_count": 47,
     "metadata": {},
     "output_type": "execute_result"
    }
   ],
   "source": [
    "s = pd.Series([1,2,3,np.nan,4,5,6,7,8,9], index = d).shift(2) #Makinga a series#\n",
    "s"
   ]
  },
  {
   "cell_type": "code",
   "execution_count": 48,
   "metadata": {},
   "outputs": [
    {
     "data": {
      "text/html": [
       "<div>\n",
       "<style scoped>\n",
       "    .dataframe tbody tr th:only-of-type {\n",
       "        vertical-align: middle;\n",
       "    }\n",
       "\n",
       "    .dataframe tbody tr th {\n",
       "        vertical-align: top;\n",
       "    }\n",
       "\n",
       "    .dataframe thead th {\n",
       "        text-align: right;\n",
       "    }\n",
       "</style>\n",
       "<table border=\"1\" class=\"dataframe\">\n",
       "  <thead>\n",
       "    <tr style=\"text-align: right;\">\n",
       "      <th></th>\n",
       "      <th>A</th>\n",
       "      <th>B</th>\n",
       "      <th>C</th>\n",
       "      <th>D</th>\n",
       "    </tr>\n",
       "  </thead>\n",
       "  <tbody>\n",
       "    <tr>\n",
       "      <td>2020-06-24</td>\n",
       "      <td>NaN</td>\n",
       "      <td>NaN</td>\n",
       "      <td>NaN</td>\n",
       "      <td>NaN</td>\n",
       "    </tr>\n",
       "    <tr>\n",
       "      <td>2020-06-25</td>\n",
       "      <td>NaN</td>\n",
       "      <td>NaN</td>\n",
       "      <td>NaN</td>\n",
       "      <td>NaN</td>\n",
       "    </tr>\n",
       "    <tr>\n",
       "      <td>2020-06-26</td>\n",
       "      <td>-2.338047</td>\n",
       "      <td>-0.688042</td>\n",
       "      <td>-2.220225</td>\n",
       "      <td>-1.150513</td>\n",
       "    </tr>\n",
       "    <tr>\n",
       "      <td>2020-06-27</td>\n",
       "      <td>-2.389909</td>\n",
       "      <td>-1.596761</td>\n",
       "      <td>-2.656277</td>\n",
       "      <td>-1.613242</td>\n",
       "    </tr>\n",
       "    <tr>\n",
       "      <td>2020-06-28</td>\n",
       "      <td>-2.592349</td>\n",
       "      <td>-2.987467</td>\n",
       "      <td>-3.648694</td>\n",
       "      <td>-3.902993</td>\n",
       "    </tr>\n",
       "    <tr>\n",
       "      <td>2020-06-29</td>\n",
       "      <td>NaN</td>\n",
       "      <td>NaN</td>\n",
       "      <td>NaN</td>\n",
       "      <td>NaN</td>\n",
       "    </tr>\n",
       "    <tr>\n",
       "      <td>2020-06-30</td>\n",
       "      <td>-4.342765</td>\n",
       "      <td>-4.535695</td>\n",
       "      <td>-5.205490</td>\n",
       "      <td>-3.296735</td>\n",
       "    </tr>\n",
       "    <tr>\n",
       "      <td>2020-07-01</td>\n",
       "      <td>-4.375081</td>\n",
       "      <td>-5.113028</td>\n",
       "      <td>-4.559172</td>\n",
       "      <td>-4.957965</td>\n",
       "    </tr>\n",
       "    <tr>\n",
       "      <td>2020-07-02</td>\n",
       "      <td>-4.743038</td>\n",
       "      <td>-5.442748</td>\n",
       "      <td>-7.985915</td>\n",
       "      <td>-7.117941</td>\n",
       "    </tr>\n",
       "    <tr>\n",
       "      <td>2020-07-03</td>\n",
       "      <td>-7.144210</td>\n",
       "      <td>-8.351080</td>\n",
       "      <td>-7.342696</td>\n",
       "      <td>-5.958559</td>\n",
       "    </tr>\n",
       "  </tbody>\n",
       "</table>\n",
       "</div>"
      ],
      "text/plain": [
       "                   A         B         C         D\n",
       "2020-06-24       NaN       NaN       NaN       NaN\n",
       "2020-06-25       NaN       NaN       NaN       NaN\n",
       "2020-06-26 -2.338047 -0.688042 -2.220225 -1.150513\n",
       "2020-06-27 -2.389909 -1.596761 -2.656277 -1.613242\n",
       "2020-06-28 -2.592349 -2.987467 -3.648694 -3.902993\n",
       "2020-06-29       NaN       NaN       NaN       NaN\n",
       "2020-06-30 -4.342765 -4.535695 -5.205490 -3.296735\n",
       "2020-07-01 -4.375081 -5.113028 -4.559172 -4.957965\n",
       "2020-07-02 -4.743038 -5.442748 -7.985915 -7.117941\n",
       "2020-07-03 -7.144210 -8.351080 -7.342696 -5.958559"
      ]
     },
     "execution_count": 48,
     "metadata": {},
     "output_type": "execute_result"
    }
   ],
   "source": [
    "df.sub(s, axis = 'index')"
   ]
  },
  {
   "cell_type": "code",
   "execution_count": 49,
   "metadata": {},
   "outputs": [
    {
     "data": {
      "text/html": [
       "<div>\n",
       "<style scoped>\n",
       "    .dataframe tbody tr th:only-of-type {\n",
       "        vertical-align: middle;\n",
       "    }\n",
       "\n",
       "    .dataframe tbody tr th {\n",
       "        vertical-align: top;\n",
       "    }\n",
       "\n",
       "    .dataframe thead th {\n",
       "        text-align: right;\n",
       "    }\n",
       "</style>\n",
       "<table border=\"1\" class=\"dataframe\">\n",
       "  <thead>\n",
       "    <tr style=\"text-align: right;\">\n",
       "      <th></th>\n",
       "      <th>A</th>\n",
       "      <th>B</th>\n",
       "      <th>C</th>\n",
       "      <th>D</th>\n",
       "    </tr>\n",
       "  </thead>\n",
       "  <tbody>\n",
       "    <tr>\n",
       "      <td>2020-06-24</td>\n",
       "      <td>1.075640</td>\n",
       "      <td>-0.806434</td>\n",
       "      <td>1.004701</td>\n",
       "      <td>-0.331218</td>\n",
       "    </tr>\n",
       "    <tr>\n",
       "      <td>2020-06-25</td>\n",
       "      <td>-0.859993</td>\n",
       "      <td>-1.289760</td>\n",
       "      <td>-0.820326</td>\n",
       "      <td>-0.054888</td>\n",
       "    </tr>\n",
       "    <tr>\n",
       "      <td>2020-06-26</td>\n",
       "      <td>-1.338047</td>\n",
       "      <td>0.311958</td>\n",
       "      <td>-1.220225</td>\n",
       "      <td>-0.150513</td>\n",
       "    </tr>\n",
       "    <tr>\n",
       "      <td>2020-06-27</td>\n",
       "      <td>-0.389909</td>\n",
       "      <td>0.403239</td>\n",
       "      <td>-0.656277</td>\n",
       "      <td>0.386758</td>\n",
       "    </tr>\n",
       "    <tr>\n",
       "      <td>2020-06-28</td>\n",
       "      <td>0.407651</td>\n",
       "      <td>0.012533</td>\n",
       "      <td>-0.648694</td>\n",
       "      <td>-0.902993</td>\n",
       "    </tr>\n",
       "    <tr>\n",
       "      <td>2020-06-29</td>\n",
       "      <td>-0.409951</td>\n",
       "      <td>-0.979485</td>\n",
       "      <td>-0.714591</td>\n",
       "      <td>0.949837</td>\n",
       "    </tr>\n",
       "    <tr>\n",
       "      <td>2020-06-30</td>\n",
       "      <td>-0.342765</td>\n",
       "      <td>-0.535695</td>\n",
       "      <td>-1.205490</td>\n",
       "      <td>0.703265</td>\n",
       "    </tr>\n",
       "    <tr>\n",
       "      <td>2020-07-01</td>\n",
       "      <td>0.624919</td>\n",
       "      <td>-0.113028</td>\n",
       "      <td>0.440828</td>\n",
       "      <td>0.042035</td>\n",
       "    </tr>\n",
       "    <tr>\n",
       "      <td>2020-07-02</td>\n",
       "      <td>1.256962</td>\n",
       "      <td>0.557252</td>\n",
       "      <td>-1.985915</td>\n",
       "      <td>-1.117941</td>\n",
       "    </tr>\n",
       "    <tr>\n",
       "      <td>2020-07-03</td>\n",
       "      <td>-0.144210</td>\n",
       "      <td>-1.351080</td>\n",
       "      <td>-0.342696</td>\n",
       "      <td>1.041441</td>\n",
       "    </tr>\n",
       "  </tbody>\n",
       "</table>\n",
       "</div>"
      ],
      "text/plain": [
       "                   A         B         C         D\n",
       "2020-06-24  1.075640 -0.806434  1.004701 -0.331218\n",
       "2020-06-25 -0.859993 -1.289760 -0.820326 -0.054888\n",
       "2020-06-26 -1.338047  0.311958 -1.220225 -0.150513\n",
       "2020-06-27 -0.389909  0.403239 -0.656277  0.386758\n",
       "2020-06-28  0.407651  0.012533 -0.648694 -0.902993\n",
       "2020-06-29 -0.409951 -0.979485 -0.714591  0.949837\n",
       "2020-06-30 -0.342765 -0.535695 -1.205490  0.703265\n",
       "2020-07-01  0.624919 -0.113028  0.440828  0.042035\n",
       "2020-07-02  1.256962  0.557252 -1.985915 -1.117941\n",
       "2020-07-03 -0.144210 -1.351080 -0.342696  1.041441"
      ]
     },
     "execution_count": 49,
     "metadata": {},
     "output_type": "execute_result"
    }
   ],
   "source": [
    "df"
   ]
  },
  {
   "cell_type": "code",
   "execution_count": 50,
   "metadata": {},
   "outputs": [
    {
     "data": {
      "text/html": [
       "<div>\n",
       "<style scoped>\n",
       "    .dataframe tbody tr th:only-of-type {\n",
       "        vertical-align: middle;\n",
       "    }\n",
       "\n",
       "    .dataframe tbody tr th {\n",
       "        vertical-align: top;\n",
       "    }\n",
       "\n",
       "    .dataframe thead th {\n",
       "        text-align: right;\n",
       "    }\n",
       "</style>\n",
       "<table border=\"1\" class=\"dataframe\">\n",
       "  <thead>\n",
       "    <tr style=\"text-align: right;\">\n",
       "      <th></th>\n",
       "      <th>A</th>\n",
       "      <th>B</th>\n",
       "      <th>C</th>\n",
       "      <th>D</th>\n",
       "    </tr>\n",
       "  </thead>\n",
       "  <tbody>\n",
       "    <tr>\n",
       "      <td>2020-06-24</td>\n",
       "      <td>1.075640</td>\n",
       "      <td>-0.806434</td>\n",
       "      <td>1.004701</td>\n",
       "      <td>-0.331218</td>\n",
       "    </tr>\n",
       "    <tr>\n",
       "      <td>2020-06-25</td>\n",
       "      <td>0.215647</td>\n",
       "      <td>-2.096193</td>\n",
       "      <td>0.184375</td>\n",
       "      <td>-0.386106</td>\n",
       "    </tr>\n",
       "    <tr>\n",
       "      <td>2020-06-26</td>\n",
       "      <td>-1.122400</td>\n",
       "      <td>-1.784236</td>\n",
       "      <td>-1.035851</td>\n",
       "      <td>-0.536619</td>\n",
       "    </tr>\n",
       "    <tr>\n",
       "      <td>2020-06-27</td>\n",
       "      <td>-1.512309</td>\n",
       "      <td>-1.380996</td>\n",
       "      <td>-1.692127</td>\n",
       "      <td>-0.149861</td>\n",
       "    </tr>\n",
       "    <tr>\n",
       "      <td>2020-06-28</td>\n",
       "      <td>-1.104658</td>\n",
       "      <td>-1.368464</td>\n",
       "      <td>-2.340821</td>\n",
       "      <td>-1.052854</td>\n",
       "    </tr>\n",
       "    <tr>\n",
       "      <td>2020-06-29</td>\n",
       "      <td>-1.514609</td>\n",
       "      <td>-2.347949</td>\n",
       "      <td>-3.055412</td>\n",
       "      <td>-0.103017</td>\n",
       "    </tr>\n",
       "    <tr>\n",
       "      <td>2020-06-30</td>\n",
       "      <td>-1.857373</td>\n",
       "      <td>-2.883644</td>\n",
       "      <td>-4.260902</td>\n",
       "      <td>0.600248</td>\n",
       "    </tr>\n",
       "    <tr>\n",
       "      <td>2020-07-01</td>\n",
       "      <td>-1.232454</td>\n",
       "      <td>-2.996672</td>\n",
       "      <td>-3.820074</td>\n",
       "      <td>0.642283</td>\n",
       "    </tr>\n",
       "    <tr>\n",
       "      <td>2020-07-02</td>\n",
       "      <td>0.024508</td>\n",
       "      <td>-2.439420</td>\n",
       "      <td>-5.805989</td>\n",
       "      <td>-0.475658</td>\n",
       "    </tr>\n",
       "    <tr>\n",
       "      <td>2020-07-03</td>\n",
       "      <td>-0.119702</td>\n",
       "      <td>-3.790500</td>\n",
       "      <td>-6.148685</td>\n",
       "      <td>0.565783</td>\n",
       "    </tr>\n",
       "  </tbody>\n",
       "</table>\n",
       "</div>"
      ],
      "text/plain": [
       "                   A         B         C         D\n",
       "2020-06-24  1.075640 -0.806434  1.004701 -0.331218\n",
       "2020-06-25  0.215647 -2.096193  0.184375 -0.386106\n",
       "2020-06-26 -1.122400 -1.784236 -1.035851 -0.536619\n",
       "2020-06-27 -1.512309 -1.380996 -1.692127 -0.149861\n",
       "2020-06-28 -1.104658 -1.368464 -2.340821 -1.052854\n",
       "2020-06-29 -1.514609 -2.347949 -3.055412 -0.103017\n",
       "2020-06-30 -1.857373 -2.883644 -4.260902  0.600248\n",
       "2020-07-01 -1.232454 -2.996672 -3.820074  0.642283\n",
       "2020-07-02  0.024508 -2.439420 -5.805989 -0.475658\n",
       "2020-07-03 -0.119702 -3.790500 -6.148685  0.565783"
      ]
     },
     "execution_count": 50,
     "metadata": {},
     "output_type": "execute_result"
    }
   ],
   "source": [
    "df.apply(np.cumsum) #Cummulative summation#"
   ]
  },
  {
   "cell_type": "code",
   "execution_count": 51,
   "metadata": {},
   "outputs": [
    {
     "data": {
      "text/plain": [
       "A    2.595009\n",
       "B    1.908332\n",
       "C    2.990616\n",
       "D    2.159382\n",
       "dtype: float64"
      ]
     },
     "execution_count": 51,
     "metadata": {},
     "output_type": "execute_result"
    }
   ],
   "source": [
    "df.apply(lambda x: x.max() - x.min())   #Lambda func helps create an anonymous function -> https://www.youtube.com/watch?v=25ovCm9jKfA#\n",
    "#Here an anonymous func has been created to subtract the min and max value of x values in each A B C column#"
   ]
  },
  {
   "cell_type": "code",
   "execution_count": 52,
   "metadata": {},
   "outputs": [
    {
     "data": {
      "text/plain": [
       "7.0    1\n",
       "6.0    1\n",
       "5.0    1\n",
       "4.0    1\n",
       "3.0    1\n",
       "2.0    1\n",
       "1.0    1\n",
       "dtype: int64"
      ]
     },
     "execution_count": 52,
     "metadata": {},
     "output_type": "execute_result"
    }
   ],
   "source": [
    "s.value_counts()"
   ]
  },
  {
   "cell_type": "code",
   "execution_count": 53,
   "metadata": {},
   "outputs": [
    {
     "data": {
      "text/plain": [
       "0    Shankar\n",
       "1     Aditya\n",
       "2     Python\n",
       "3        NaN\n",
       "4      Viera\n",
       "5    Gerrard\n",
       "dtype: object"
      ]
     },
     "execution_count": 53,
     "metadata": {},
     "output_type": "execute_result"
    }
   ],
   "source": [
    "s = pd.Series(['Shankar','Aditya','Python',np.nan,'Viera','Gerrard'])\n",
    "s    #Creating a series#"
   ]
  },
  {
   "cell_type": "code",
   "execution_count": 54,
   "metadata": {},
   "outputs": [
    {
     "data": {
      "text/plain": [
       "0    SHANKAR\n",
       "1     ADITYA\n",
       "2     PYTHON\n",
       "3        NaN\n",
       "4      VIERA\n",
       "5    GERRARD\n",
       "dtype: object"
      ]
     },
     "execution_count": 54,
     "metadata": {},
     "output_type": "execute_result"
    }
   ],
   "source": [
    "s.str.upper() #Converting all Strings to upper case can also be converted to lower case #"
   ]
  },
  {
   "cell_type": "code",
   "execution_count": 55,
   "metadata": {},
   "outputs": [
    {
     "data": {
      "text/html": [
       "<div>\n",
       "<style scoped>\n",
       "    .dataframe tbody tr th:only-of-type {\n",
       "        vertical-align: middle;\n",
       "    }\n",
       "\n",
       "    .dataframe tbody tr th {\n",
       "        vertical-align: top;\n",
       "    }\n",
       "\n",
       "    .dataframe thead th {\n",
       "        text-align: right;\n",
       "    }\n",
       "</style>\n",
       "<table border=\"1\" class=\"dataframe\">\n",
       "  <thead>\n",
       "    <tr style=\"text-align: right;\">\n",
       "      <th></th>\n",
       "      <th>0</th>\n",
       "      <th>1</th>\n",
       "      <th>2</th>\n",
       "      <th>3</th>\n",
       "    </tr>\n",
       "  </thead>\n",
       "  <tbody>\n",
       "    <tr>\n",
       "      <td>0</td>\n",
       "      <td>1.303066</td>\n",
       "      <td>-0.111971</td>\n",
       "      <td>-0.970904</td>\n",
       "      <td>-0.538756</td>\n",
       "    </tr>\n",
       "    <tr>\n",
       "      <td>1</td>\n",
       "      <td>-0.548194</td>\n",
       "      <td>0.513354</td>\n",
       "      <td>-0.896346</td>\n",
       "      <td>0.379372</td>\n",
       "    </tr>\n",
       "    <tr>\n",
       "      <td>2</td>\n",
       "      <td>-0.821322</td>\n",
       "      <td>0.611714</td>\n",
       "      <td>-0.641497</td>\n",
       "      <td>1.013178</td>\n",
       "    </tr>\n",
       "    <tr>\n",
       "      <td>3</td>\n",
       "      <td>-0.954798</td>\n",
       "      <td>0.072975</td>\n",
       "      <td>-1.155470</td>\n",
       "      <td>1.731534</td>\n",
       "    </tr>\n",
       "    <tr>\n",
       "      <td>4</td>\n",
       "      <td>-0.598585</td>\n",
       "      <td>1.043165</td>\n",
       "      <td>-1.727455</td>\n",
       "      <td>-0.413215</td>\n",
       "    </tr>\n",
       "    <tr>\n",
       "      <td>5</td>\n",
       "      <td>0.968017</td>\n",
       "      <td>-1.114813</td>\n",
       "      <td>-0.582496</td>\n",
       "      <td>0.876696</td>\n",
       "    </tr>\n",
       "    <tr>\n",
       "      <td>6</td>\n",
       "      <td>-1.129011</td>\n",
       "      <td>0.177611</td>\n",
       "      <td>0.158935</td>\n",
       "      <td>-1.040582</td>\n",
       "    </tr>\n",
       "    <tr>\n",
       "      <td>7</td>\n",
       "      <td>0.608757</td>\n",
       "      <td>-0.495004</td>\n",
       "      <td>0.103519</td>\n",
       "      <td>-0.449739</td>\n",
       "    </tr>\n",
       "    <tr>\n",
       "      <td>8</td>\n",
       "      <td>-0.555510</td>\n",
       "      <td>0.039006</td>\n",
       "      <td>0.688767</td>\n",
       "      <td>1.156397</td>\n",
       "    </tr>\n",
       "    <tr>\n",
       "      <td>9</td>\n",
       "      <td>0.781807</td>\n",
       "      <td>0.296541</td>\n",
       "      <td>0.158868</td>\n",
       "      <td>-1.108569</td>\n",
       "    </tr>\n",
       "  </tbody>\n",
       "</table>\n",
       "</div>"
      ],
      "text/plain": [
       "          0         1         2         3\n",
       "0  1.303066 -0.111971 -0.970904 -0.538756\n",
       "1 -0.548194  0.513354 -0.896346  0.379372\n",
       "2 -0.821322  0.611714 -0.641497  1.013178\n",
       "3 -0.954798  0.072975 -1.155470  1.731534\n",
       "4 -0.598585  1.043165 -1.727455 -0.413215\n",
       "5  0.968017 -1.114813 -0.582496  0.876696\n",
       "6 -1.129011  0.177611  0.158935 -1.040582\n",
       "7  0.608757 -0.495004  0.103519 -0.449739\n",
       "8 -0.555510  0.039006  0.688767  1.156397\n",
       "9  0.781807  0.296541  0.158868 -1.108569"
      ]
     },
     "execution_count": 55,
     "metadata": {},
     "output_type": "execute_result"
    }
   ],
   "source": [
    "df = pd.DataFrame(np.random.randn(10,4)) #genarates 10x4 random nos#\n",
    "df"
   ]
  },
  {
   "cell_type": "code",
   "execution_count": 56,
   "metadata": {},
   "outputs": [
    {
     "data": {
      "text/plain": [
       "[          0         1         2         3\n",
       " 0  1.303066 -0.111971 -0.970904 -0.538756\n",
       " 1 -0.548194  0.513354 -0.896346  0.379372\n",
       " 2 -0.821322  0.611714 -0.641497  1.013178,\n",
       "           0         1         2         3\n",
       " 3 -0.954798  0.072975 -1.155470  1.731534\n",
       " 4 -0.598585  1.043165 -1.727455 -0.413215\n",
       " 5  0.968017 -1.114813 -0.582496  0.876696\n",
       " 6 -1.129011  0.177611  0.158935 -1.040582,\n",
       "           0         1         2         3\n",
       " 7  0.608757 -0.495004  0.103519 -0.449739\n",
       " 8 -0.555510  0.039006  0.688767  1.156397\n",
       " 9  0.781807  0.296541  0.158868 -1.108569]"
      ]
     },
     "execution_count": 56,
     "metadata": {},
     "output_type": "execute_result"
    }
   ],
   "source": [
    "df2 = [df[:3], df[3:7], df[7:]] #Breaking df into peices#\n",
    "df2"
   ]
  },
  {
   "cell_type": "code",
   "execution_count": 57,
   "metadata": {},
   "outputs": [
    {
     "data": {
      "text/html": [
       "<div>\n",
       "<style scoped>\n",
       "    .dataframe tbody tr th:only-of-type {\n",
       "        vertical-align: middle;\n",
       "    }\n",
       "\n",
       "    .dataframe tbody tr th {\n",
       "        vertical-align: top;\n",
       "    }\n",
       "\n",
       "    .dataframe thead th {\n",
       "        text-align: right;\n",
       "    }\n",
       "</style>\n",
       "<table border=\"1\" class=\"dataframe\">\n",
       "  <thead>\n",
       "    <tr style=\"text-align: right;\">\n",
       "      <th></th>\n",
       "      <th>0</th>\n",
       "      <th>1</th>\n",
       "      <th>2</th>\n",
       "      <th>3</th>\n",
       "    </tr>\n",
       "  </thead>\n",
       "  <tbody>\n",
       "    <tr>\n",
       "      <td>0</td>\n",
       "      <td>1.303066</td>\n",
       "      <td>-0.111971</td>\n",
       "      <td>-0.970904</td>\n",
       "      <td>-0.538756</td>\n",
       "    </tr>\n",
       "    <tr>\n",
       "      <td>1</td>\n",
       "      <td>-0.548194</td>\n",
       "      <td>0.513354</td>\n",
       "      <td>-0.896346</td>\n",
       "      <td>0.379372</td>\n",
       "    </tr>\n",
       "    <tr>\n",
       "      <td>2</td>\n",
       "      <td>-0.821322</td>\n",
       "      <td>0.611714</td>\n",
       "      <td>-0.641497</td>\n",
       "      <td>1.013178</td>\n",
       "    </tr>\n",
       "    <tr>\n",
       "      <td>3</td>\n",
       "      <td>-0.954798</td>\n",
       "      <td>0.072975</td>\n",
       "      <td>-1.155470</td>\n",
       "      <td>1.731534</td>\n",
       "    </tr>\n",
       "    <tr>\n",
       "      <td>4</td>\n",
       "      <td>-0.598585</td>\n",
       "      <td>1.043165</td>\n",
       "      <td>-1.727455</td>\n",
       "      <td>-0.413215</td>\n",
       "    </tr>\n",
       "    <tr>\n",
       "      <td>5</td>\n",
       "      <td>0.968017</td>\n",
       "      <td>-1.114813</td>\n",
       "      <td>-0.582496</td>\n",
       "      <td>0.876696</td>\n",
       "    </tr>\n",
       "    <tr>\n",
       "      <td>6</td>\n",
       "      <td>-1.129011</td>\n",
       "      <td>0.177611</td>\n",
       "      <td>0.158935</td>\n",
       "      <td>-1.040582</td>\n",
       "    </tr>\n",
       "    <tr>\n",
       "      <td>7</td>\n",
       "      <td>0.608757</td>\n",
       "      <td>-0.495004</td>\n",
       "      <td>0.103519</td>\n",
       "      <td>-0.449739</td>\n",
       "    </tr>\n",
       "    <tr>\n",
       "      <td>8</td>\n",
       "      <td>-0.555510</td>\n",
       "      <td>0.039006</td>\n",
       "      <td>0.688767</td>\n",
       "      <td>1.156397</td>\n",
       "    </tr>\n",
       "    <tr>\n",
       "      <td>9</td>\n",
       "      <td>0.781807</td>\n",
       "      <td>0.296541</td>\n",
       "      <td>0.158868</td>\n",
       "      <td>-1.108569</td>\n",
       "    </tr>\n",
       "  </tbody>\n",
       "</table>\n",
       "</div>"
      ],
      "text/plain": [
       "          0         1         2         3\n",
       "0  1.303066 -0.111971 -0.970904 -0.538756\n",
       "1 -0.548194  0.513354 -0.896346  0.379372\n",
       "2 -0.821322  0.611714 -0.641497  1.013178\n",
       "3 -0.954798  0.072975 -1.155470  1.731534\n",
       "4 -0.598585  1.043165 -1.727455 -0.413215\n",
       "5  0.968017 -1.114813 -0.582496  0.876696\n",
       "6 -1.129011  0.177611  0.158935 -1.040582\n",
       "7  0.608757 -0.495004  0.103519 -0.449739\n",
       "8 -0.555510  0.039006  0.688767  1.156397\n",
       "9  0.781807  0.296541  0.158868 -1.108569"
      ]
     },
     "execution_count": 57,
     "metadata": {},
     "output_type": "execute_result"
    }
   ],
   "source": [
    "pd.concat(df2) #Joining all the peices#"
   ]
  },
  {
   "cell_type": "code",
   "execution_count": 58,
   "metadata": {},
   "outputs": [
    {
     "data": {
      "text/html": [
       "<div>\n",
       "<style scoped>\n",
       "    .dataframe tbody tr th:only-of-type {\n",
       "        vertical-align: middle;\n",
       "    }\n",
       "\n",
       "    .dataframe tbody tr th {\n",
       "        vertical-align: top;\n",
       "    }\n",
       "\n",
       "    .dataframe thead th {\n",
       "        text-align: right;\n",
       "    }\n",
       "</style>\n",
       "<table border=\"1\" class=\"dataframe\">\n",
       "  <thead>\n",
       "    <tr style=\"text-align: right;\">\n",
       "      <th></th>\n",
       "      <th>A</th>\n",
       "      <th>B</th>\n",
       "    </tr>\n",
       "  </thead>\n",
       "  <tbody>\n",
       "    <tr>\n",
       "      <td>0</td>\n",
       "      <td>1</td>\n",
       "      <td>3</td>\n",
       "    </tr>\n",
       "    <tr>\n",
       "      <td>1</td>\n",
       "      <td>2</td>\n",
       "      <td>4</td>\n",
       "    </tr>\n",
       "  </tbody>\n",
       "</table>\n",
       "</div>"
      ],
      "text/plain": [
       "   A  B\n",
       "0  1  3\n",
       "1  2  4"
      ]
     },
     "execution_count": 58,
     "metadata": {},
     "output_type": "execute_result"
    }
   ],
   "source": [
    "left = pd.DataFrame({'A': [1,2], 'B': [3,4]})\n",
    "left"
   ]
  },
  {
   "cell_type": "code",
   "execution_count": 59,
   "metadata": {},
   "outputs": [
    {
     "data": {
      "text/html": [
       "<div>\n",
       "<style scoped>\n",
       "    .dataframe tbody tr th:only-of-type {\n",
       "        vertical-align: middle;\n",
       "    }\n",
       "\n",
       "    .dataframe tbody tr th {\n",
       "        vertical-align: top;\n",
       "    }\n",
       "\n",
       "    .dataframe thead th {\n",
       "        text-align: right;\n",
       "    }\n",
       "</style>\n",
       "<table border=\"1\" class=\"dataframe\">\n",
       "  <thead>\n",
       "    <tr style=\"text-align: right;\">\n",
       "      <th></th>\n",
       "      <th>A</th>\n",
       "      <th>D</th>\n",
       "    </tr>\n",
       "  </thead>\n",
       "  <tbody>\n",
       "    <tr>\n",
       "      <td>0</td>\n",
       "      <td>2</td>\n",
       "      <td>4</td>\n",
       "    </tr>\n",
       "    <tr>\n",
       "      <td>1</td>\n",
       "      <td>3</td>\n",
       "      <td>6</td>\n",
       "    </tr>\n",
       "  </tbody>\n",
       "</table>\n",
       "</div>"
      ],
      "text/plain": [
       "   A  D\n",
       "0  2  4\n",
       "1  3  6"
      ]
     },
     "execution_count": 59,
     "metadata": {},
     "output_type": "execute_result"
    }
   ],
   "source": [
    "right = pd.DataFrame({'A': [2,3], 'D': [4,6]})\n",
    "right"
   ]
  },
  {
   "cell_type": "code",
   "execution_count": 60,
   "metadata": {},
   "outputs": [
    {
     "data": {
      "text/html": [
       "<div>\n",
       "<style scoped>\n",
       "    .dataframe tbody tr th:only-of-type {\n",
       "        vertical-align: middle;\n",
       "    }\n",
       "\n",
       "    .dataframe tbody tr th {\n",
       "        vertical-align: top;\n",
       "    }\n",
       "\n",
       "    .dataframe thead th {\n",
       "        text-align: right;\n",
       "    }\n",
       "</style>\n",
       "<table border=\"1\" class=\"dataframe\">\n",
       "  <thead>\n",
       "    <tr style=\"text-align: right;\">\n",
       "      <th></th>\n",
       "      <th>A</th>\n",
       "      <th>B</th>\n",
       "      <th>D</th>\n",
       "    </tr>\n",
       "  </thead>\n",
       "  <tbody>\n",
       "    <tr>\n",
       "      <td>0</td>\n",
       "      <td>2</td>\n",
       "      <td>4</td>\n",
       "      <td>4</td>\n",
       "    </tr>\n",
       "  </tbody>\n",
       "</table>\n",
       "</div>"
      ],
      "text/plain": [
       "   A  B  D\n",
       "0  2  4  4"
      ]
     },
     "execution_count": 60,
     "metadata": {},
     "output_type": "execute_result"
    }
   ],
   "source": [
    "pd.merge(left, right, on ='A') #Merging the column which has same data#"
   ]
  },
  {
   "cell_type": "code",
   "execution_count": 61,
   "metadata": {},
   "outputs": [
    {
     "data": {
      "text/html": [
       "<div>\n",
       "<style scoped>\n",
       "    .dataframe tbody tr th:only-of-type {\n",
       "        vertical-align: middle;\n",
       "    }\n",
       "\n",
       "    .dataframe tbody tr th {\n",
       "        vertical-align: top;\n",
       "    }\n",
       "\n",
       "    .dataframe thead th {\n",
       "        text-align: right;\n",
       "    }\n",
       "</style>\n",
       "<table border=\"1\" class=\"dataframe\">\n",
       "  <thead>\n",
       "    <tr style=\"text-align: right;\">\n",
       "      <th></th>\n",
       "      <th></th>\n",
       "      <th>0</th>\n",
       "      <th>1</th>\n",
       "    </tr>\n",
       "    <tr>\n",
       "      <th>2</th>\n",
       "      <th>3</th>\n",
       "      <th></th>\n",
       "      <th></th>\n",
       "    </tr>\n",
       "  </thead>\n",
       "  <tbody>\n",
       "    <tr>\n",
       "      <td>-1.727455</td>\n",
       "      <td>-0.413215</td>\n",
       "      <td>-0.598585</td>\n",
       "      <td>1.043165</td>\n",
       "    </tr>\n",
       "    <tr>\n",
       "      <td>-1.155470</td>\n",
       "      <td>1.731534</td>\n",
       "      <td>-0.954798</td>\n",
       "      <td>0.072975</td>\n",
       "    </tr>\n",
       "    <tr>\n",
       "      <td>-0.970904</td>\n",
       "      <td>-0.538756</td>\n",
       "      <td>1.303066</td>\n",
       "      <td>-0.111971</td>\n",
       "    </tr>\n",
       "    <tr>\n",
       "      <td>-0.896346</td>\n",
       "      <td>0.379372</td>\n",
       "      <td>-0.548194</td>\n",
       "      <td>0.513354</td>\n",
       "    </tr>\n",
       "    <tr>\n",
       "      <td>-0.641497</td>\n",
       "      <td>1.013178</td>\n",
       "      <td>-0.821322</td>\n",
       "      <td>0.611714</td>\n",
       "    </tr>\n",
       "    <tr>\n",
       "      <td>-0.582496</td>\n",
       "      <td>0.876696</td>\n",
       "      <td>0.968017</td>\n",
       "      <td>-1.114813</td>\n",
       "    </tr>\n",
       "    <tr>\n",
       "      <td>0.103519</td>\n",
       "      <td>-0.449739</td>\n",
       "      <td>0.608757</td>\n",
       "      <td>-0.495004</td>\n",
       "    </tr>\n",
       "    <tr>\n",
       "      <td>0.158868</td>\n",
       "      <td>-1.108569</td>\n",
       "      <td>0.781807</td>\n",
       "      <td>0.296541</td>\n",
       "    </tr>\n",
       "    <tr>\n",
       "      <td>0.158935</td>\n",
       "      <td>-1.040582</td>\n",
       "      <td>-1.129011</td>\n",
       "      <td>0.177611</td>\n",
       "    </tr>\n",
       "    <tr>\n",
       "      <td>0.688767</td>\n",
       "      <td>1.156397</td>\n",
       "      <td>-0.555510</td>\n",
       "      <td>0.039006</td>\n",
       "    </tr>\n",
       "  </tbody>\n",
       "</table>\n",
       "</div>"
      ],
      "text/plain": [
       "                            0         1\n",
       "2         3                            \n",
       "-1.727455 -0.413215 -0.598585  1.043165\n",
       "-1.155470  1.731534 -0.954798  0.072975\n",
       "-0.970904 -0.538756  1.303066 -0.111971\n",
       "-0.896346  0.379372 -0.548194  0.513354\n",
       "-0.641497  1.013178 -0.821322  0.611714\n",
       "-0.582496  0.876696  0.968017 -1.114813\n",
       " 0.103519 -0.449739  0.608757 -0.495004\n",
       " 0.158868 -1.108569  0.781807  0.296541\n",
       " 0.158935 -1.040582 -1.129011  0.177611\n",
       " 0.688767  1.156397 -0.555510  0.039006"
      ]
     },
     "execution_count": 61,
     "metadata": {},
     "output_type": "execute_result"
    }
   ],
   "source": [
    "df.groupby([2,3]).sum() #Groups the data by column 2 and 3#"
   ]
  },
  {
   "cell_type": "code",
   "execution_count": 62,
   "metadata": {},
   "outputs": [],
   "source": [
    "#Stacks used to stack the prescribed levels from column to index it returns a reshaped dataFrame or a series having one or more new inner levels than the current dataFrame#\n",
    "my_tuple = list(zip(*[[1,2,3,4,5,6,9,10],[7,8,11,12,13,14,15,16]]))"
   ]
  },
  {
   "cell_type": "code",
   "execution_count": 63,
   "metadata": {},
   "outputs": [],
   "source": [
    "index = pd.MultiIndex.from_tuples(my_tuple, names = ['First', 'Second'])"
   ]
  },
  {
   "cell_type": "code",
   "execution_count": 64,
   "metadata": {},
   "outputs": [],
   "source": [
    "df = pd.DataFrame(np.random.randn(8,2),index = index, columns=['A','B'])"
   ]
  },
  {
   "cell_type": "code",
   "execution_count": 65,
   "metadata": {},
   "outputs": [
    {
     "data": {
      "text/html": [
       "<div>\n",
       "<style scoped>\n",
       "    .dataframe tbody tr th:only-of-type {\n",
       "        vertical-align: middle;\n",
       "    }\n",
       "\n",
       "    .dataframe tbody tr th {\n",
       "        vertical-align: top;\n",
       "    }\n",
       "\n",
       "    .dataframe thead th {\n",
       "        text-align: right;\n",
       "    }\n",
       "</style>\n",
       "<table border=\"1\" class=\"dataframe\">\n",
       "  <thead>\n",
       "    <tr style=\"text-align: right;\">\n",
       "      <th></th>\n",
       "      <th></th>\n",
       "      <th>A</th>\n",
       "      <th>B</th>\n",
       "    </tr>\n",
       "    <tr>\n",
       "      <th>First</th>\n",
       "      <th>Second</th>\n",
       "      <th></th>\n",
       "      <th></th>\n",
       "    </tr>\n",
       "  </thead>\n",
       "  <tbody>\n",
       "    <tr>\n",
       "      <td>1</td>\n",
       "      <td>7</td>\n",
       "      <td>0.993761</td>\n",
       "      <td>0.152251</td>\n",
       "    </tr>\n",
       "    <tr>\n",
       "      <td>2</td>\n",
       "      <td>8</td>\n",
       "      <td>0.024613</td>\n",
       "      <td>0.819059</td>\n",
       "    </tr>\n",
       "    <tr>\n",
       "      <td>3</td>\n",
       "      <td>11</td>\n",
       "      <td>0.436475</td>\n",
       "      <td>-0.127436</td>\n",
       "    </tr>\n",
       "    <tr>\n",
       "      <td>4</td>\n",
       "      <td>12</td>\n",
       "      <td>1.794662</td>\n",
       "      <td>0.382206</td>\n",
       "    </tr>\n",
       "  </tbody>\n",
       "</table>\n",
       "</div>"
      ],
      "text/plain": [
       "                     A         B\n",
       "First Second                    \n",
       "1     7       0.993761  0.152251\n",
       "2     8       0.024613  0.819059\n",
       "3     11      0.436475 -0.127436\n",
       "4     12      1.794662  0.382206"
      ]
     },
     "execution_count": 65,
     "metadata": {},
     "output_type": "execute_result"
    }
   ],
   "source": [
    "df2 = df[:4]\n",
    "df2"
   ]
  },
  {
   "cell_type": "code",
   "execution_count": 66,
   "metadata": {},
   "outputs": [
    {
     "data": {
      "text/plain": [
       "First  Second   \n",
       "1      7       A    0.993761\n",
       "               B    0.152251\n",
       "2      8       A    0.024613\n",
       "               B    0.819059\n",
       "3      11      A    0.436475\n",
       "               B   -0.127436\n",
       "4      12      A    1.794662\n",
       "               B    0.382206\n",
       "dtype: float64"
      ]
     },
     "execution_count": 66,
     "metadata": {},
     "output_type": "execute_result"
    }
   ],
   "source": [
    "#Stack func compresses data in column#\n",
    "a = df2.stack()\n",
    "a"
   ]
  },
  {
   "cell_type": "code",
   "execution_count": 67,
   "metadata": {},
   "outputs": [
    {
     "data": {
      "text/html": [
       "<div>\n",
       "<style scoped>\n",
       "    .dataframe tbody tr th:only-of-type {\n",
       "        vertical-align: middle;\n",
       "    }\n",
       "\n",
       "    .dataframe tbody tr th {\n",
       "        vertical-align: top;\n",
       "    }\n",
       "\n",
       "    .dataframe thead th {\n",
       "        text-align: right;\n",
       "    }\n",
       "</style>\n",
       "<table border=\"1\" class=\"dataframe\">\n",
       "  <thead>\n",
       "    <tr style=\"text-align: right;\">\n",
       "      <th></th>\n",
       "      <th></th>\n",
       "      <th>A</th>\n",
       "      <th>B</th>\n",
       "    </tr>\n",
       "    <tr>\n",
       "      <th>First</th>\n",
       "      <th>Second</th>\n",
       "      <th></th>\n",
       "      <th></th>\n",
       "    </tr>\n",
       "  </thead>\n",
       "  <tbody>\n",
       "    <tr>\n",
       "      <td>1</td>\n",
       "      <td>7</td>\n",
       "      <td>0.993761</td>\n",
       "      <td>0.152251</td>\n",
       "    </tr>\n",
       "    <tr>\n",
       "      <td>2</td>\n",
       "      <td>8</td>\n",
       "      <td>0.024613</td>\n",
       "      <td>0.819059</td>\n",
       "    </tr>\n",
       "    <tr>\n",
       "      <td>3</td>\n",
       "      <td>11</td>\n",
       "      <td>0.436475</td>\n",
       "      <td>-0.127436</td>\n",
       "    </tr>\n",
       "    <tr>\n",
       "      <td>4</td>\n",
       "      <td>12</td>\n",
       "      <td>1.794662</td>\n",
       "      <td>0.382206</td>\n",
       "    </tr>\n",
       "  </tbody>\n",
       "</table>\n",
       "</div>"
      ],
      "text/plain": [
       "                     A         B\n",
       "First Second                    \n",
       "1     7       0.993761  0.152251\n",
       "2     8       0.024613  0.819059\n",
       "3     11      0.436475 -0.127436\n",
       "4     12      1.794662  0.382206"
      ]
     },
     "execution_count": 67,
     "metadata": {},
     "output_type": "execute_result"
    }
   ],
   "source": [
    "a.unstack() #Unstacks data# "
   ]
  },
  {
   "cell_type": "code",
   "execution_count": 68,
   "metadata": {},
   "outputs": [],
   "source": [
    "df = pd.DataFrame({'A':['a','b','c','d']*3, \n",
    "              'B':['A','B','C']*4,\n",
    "              'C':['P','Q','R','S','T','U']*2,\n",
    "              'D':np.random.randn(12),\n",
    "              'E':np.random.randn(12)})\n",
    "#While defining make sure all the array lenghts are equal(i.e equal to 12)# "
   ]
  },
  {
   "cell_type": "code",
   "execution_count": 69,
   "metadata": {},
   "outputs": [
    {
     "data": {
      "text/html": [
       "<div>\n",
       "<style scoped>\n",
       "    .dataframe tbody tr th:only-of-type {\n",
       "        vertical-align: middle;\n",
       "    }\n",
       "\n",
       "    .dataframe tbody tr th {\n",
       "        vertical-align: top;\n",
       "    }\n",
       "\n",
       "    .dataframe thead th {\n",
       "        text-align: right;\n",
       "    }\n",
       "</style>\n",
       "<table border=\"1\" class=\"dataframe\">\n",
       "  <thead>\n",
       "    <tr style=\"text-align: right;\">\n",
       "      <th></th>\n",
       "      <th>A</th>\n",
       "      <th>B</th>\n",
       "      <th>C</th>\n",
       "      <th>D</th>\n",
       "      <th>E</th>\n",
       "    </tr>\n",
       "  </thead>\n",
       "  <tbody>\n",
       "    <tr>\n",
       "      <td>0</td>\n",
       "      <td>a</td>\n",
       "      <td>A</td>\n",
       "      <td>P</td>\n",
       "      <td>-2.226822</td>\n",
       "      <td>-1.309230</td>\n",
       "    </tr>\n",
       "    <tr>\n",
       "      <td>1</td>\n",
       "      <td>b</td>\n",
       "      <td>B</td>\n",
       "      <td>Q</td>\n",
       "      <td>-0.703154</td>\n",
       "      <td>0.635857</td>\n",
       "    </tr>\n",
       "    <tr>\n",
       "      <td>2</td>\n",
       "      <td>c</td>\n",
       "      <td>C</td>\n",
       "      <td>R</td>\n",
       "      <td>-0.447142</td>\n",
       "      <td>1.146474</td>\n",
       "    </tr>\n",
       "    <tr>\n",
       "      <td>3</td>\n",
       "      <td>d</td>\n",
       "      <td>A</td>\n",
       "      <td>S</td>\n",
       "      <td>1.154983</td>\n",
       "      <td>0.567421</td>\n",
       "    </tr>\n",
       "    <tr>\n",
       "      <td>4</td>\n",
       "      <td>a</td>\n",
       "      <td>B</td>\n",
       "      <td>T</td>\n",
       "      <td>0.785247</td>\n",
       "      <td>-0.985561</td>\n",
       "    </tr>\n",
       "    <tr>\n",
       "      <td>5</td>\n",
       "      <td>b</td>\n",
       "      <td>C</td>\n",
       "      <td>U</td>\n",
       "      <td>1.602076</td>\n",
       "      <td>0.947596</td>\n",
       "    </tr>\n",
       "    <tr>\n",
       "      <td>6</td>\n",
       "      <td>c</td>\n",
       "      <td>A</td>\n",
       "      <td>P</td>\n",
       "      <td>0.403051</td>\n",
       "      <td>0.316837</td>\n",
       "    </tr>\n",
       "    <tr>\n",
       "      <td>7</td>\n",
       "      <td>d</td>\n",
       "      <td>B</td>\n",
       "      <td>Q</td>\n",
       "      <td>0.394718</td>\n",
       "      <td>-1.605925</td>\n",
       "    </tr>\n",
       "    <tr>\n",
       "      <td>8</td>\n",
       "      <td>a</td>\n",
       "      <td>C</td>\n",
       "      <td>R</td>\n",
       "      <td>0.090887</td>\n",
       "      <td>0.724083</td>\n",
       "    </tr>\n",
       "    <tr>\n",
       "      <td>9</td>\n",
       "      <td>b</td>\n",
       "      <td>A</td>\n",
       "      <td>S</td>\n",
       "      <td>-0.331496</td>\n",
       "      <td>-0.613348</td>\n",
       "    </tr>\n",
       "    <tr>\n",
       "      <td>10</td>\n",
       "      <td>c</td>\n",
       "      <td>B</td>\n",
       "      <td>T</td>\n",
       "      <td>0.687734</td>\n",
       "      <td>0.769362</td>\n",
       "    </tr>\n",
       "    <tr>\n",
       "      <td>11</td>\n",
       "      <td>d</td>\n",
       "      <td>C</td>\n",
       "      <td>U</td>\n",
       "      <td>-1.340053</td>\n",
       "      <td>1.546276</td>\n",
       "    </tr>\n",
       "  </tbody>\n",
       "</table>\n",
       "</div>"
      ],
      "text/plain": [
       "    A  B  C         D         E\n",
       "0   a  A  P -2.226822 -1.309230\n",
       "1   b  B  Q -0.703154  0.635857\n",
       "2   c  C  R -0.447142  1.146474\n",
       "3   d  A  S  1.154983  0.567421\n",
       "4   a  B  T  0.785247 -0.985561\n",
       "5   b  C  U  1.602076  0.947596\n",
       "6   c  A  P  0.403051  0.316837\n",
       "7   d  B  Q  0.394718 -1.605925\n",
       "8   a  C  R  0.090887  0.724083\n",
       "9   b  A  S -0.331496 -0.613348\n",
       "10  c  B  T  0.687734  0.769362\n",
       "11  d  C  U -1.340053  1.546276"
      ]
     },
     "execution_count": 69,
     "metadata": {},
     "output_type": "execute_result"
    }
   ],
   "source": [
    "df"
   ]
  },
  {
   "cell_type": "code",
   "execution_count": 70,
   "metadata": {},
   "outputs": [
    {
     "data": {
      "text/html": [
       "<div>\n",
       "<style scoped>\n",
       "    .dataframe tbody tr th:only-of-type {\n",
       "        vertical-align: middle;\n",
       "    }\n",
       "\n",
       "    .dataframe tbody tr th {\n",
       "        vertical-align: top;\n",
       "    }\n",
       "\n",
       "    .dataframe thead th {\n",
       "        text-align: right;\n",
       "    }\n",
       "</style>\n",
       "<table border=\"1\" class=\"dataframe\">\n",
       "  <thead>\n",
       "    <tr style=\"text-align: right;\">\n",
       "      <th></th>\n",
       "      <th>C</th>\n",
       "      <th>P</th>\n",
       "      <th>Q</th>\n",
       "      <th>R</th>\n",
       "      <th>S</th>\n",
       "      <th>T</th>\n",
       "      <th>U</th>\n",
       "    </tr>\n",
       "    <tr>\n",
       "      <th>A</th>\n",
       "      <th>B</th>\n",
       "      <th></th>\n",
       "      <th></th>\n",
       "      <th></th>\n",
       "      <th></th>\n",
       "      <th></th>\n",
       "      <th></th>\n",
       "    </tr>\n",
       "  </thead>\n",
       "  <tbody>\n",
       "    <tr>\n",
       "      <td rowspan=\"3\" valign=\"top\">a</td>\n",
       "      <td>A</td>\n",
       "      <td>-2.226822</td>\n",
       "      <td>NaN</td>\n",
       "      <td>NaN</td>\n",
       "      <td>NaN</td>\n",
       "      <td>NaN</td>\n",
       "      <td>NaN</td>\n",
       "    </tr>\n",
       "    <tr>\n",
       "      <td>B</td>\n",
       "      <td>NaN</td>\n",
       "      <td>NaN</td>\n",
       "      <td>NaN</td>\n",
       "      <td>NaN</td>\n",
       "      <td>0.785247</td>\n",
       "      <td>NaN</td>\n",
       "    </tr>\n",
       "    <tr>\n",
       "      <td>C</td>\n",
       "      <td>NaN</td>\n",
       "      <td>NaN</td>\n",
       "      <td>0.090887</td>\n",
       "      <td>NaN</td>\n",
       "      <td>NaN</td>\n",
       "      <td>NaN</td>\n",
       "    </tr>\n",
       "    <tr>\n",
       "      <td rowspan=\"3\" valign=\"top\">b</td>\n",
       "      <td>A</td>\n",
       "      <td>NaN</td>\n",
       "      <td>NaN</td>\n",
       "      <td>NaN</td>\n",
       "      <td>-0.331496</td>\n",
       "      <td>NaN</td>\n",
       "      <td>NaN</td>\n",
       "    </tr>\n",
       "    <tr>\n",
       "      <td>B</td>\n",
       "      <td>NaN</td>\n",
       "      <td>-0.703154</td>\n",
       "      <td>NaN</td>\n",
       "      <td>NaN</td>\n",
       "      <td>NaN</td>\n",
       "      <td>NaN</td>\n",
       "    </tr>\n",
       "    <tr>\n",
       "      <td>C</td>\n",
       "      <td>NaN</td>\n",
       "      <td>NaN</td>\n",
       "      <td>NaN</td>\n",
       "      <td>NaN</td>\n",
       "      <td>NaN</td>\n",
       "      <td>1.602076</td>\n",
       "    </tr>\n",
       "    <tr>\n",
       "      <td rowspan=\"3\" valign=\"top\">c</td>\n",
       "      <td>A</td>\n",
       "      <td>0.403051</td>\n",
       "      <td>NaN</td>\n",
       "      <td>NaN</td>\n",
       "      <td>NaN</td>\n",
       "      <td>NaN</td>\n",
       "      <td>NaN</td>\n",
       "    </tr>\n",
       "    <tr>\n",
       "      <td>B</td>\n",
       "      <td>NaN</td>\n",
       "      <td>NaN</td>\n",
       "      <td>NaN</td>\n",
       "      <td>NaN</td>\n",
       "      <td>0.687734</td>\n",
       "      <td>NaN</td>\n",
       "    </tr>\n",
       "    <tr>\n",
       "      <td>C</td>\n",
       "      <td>NaN</td>\n",
       "      <td>NaN</td>\n",
       "      <td>-0.447142</td>\n",
       "      <td>NaN</td>\n",
       "      <td>NaN</td>\n",
       "      <td>NaN</td>\n",
       "    </tr>\n",
       "    <tr>\n",
       "      <td rowspan=\"3\" valign=\"top\">d</td>\n",
       "      <td>A</td>\n",
       "      <td>NaN</td>\n",
       "      <td>NaN</td>\n",
       "      <td>NaN</td>\n",
       "      <td>1.154983</td>\n",
       "      <td>NaN</td>\n",
       "      <td>NaN</td>\n",
       "    </tr>\n",
       "    <tr>\n",
       "      <td>B</td>\n",
       "      <td>NaN</td>\n",
       "      <td>0.394718</td>\n",
       "      <td>NaN</td>\n",
       "      <td>NaN</td>\n",
       "      <td>NaN</td>\n",
       "      <td>NaN</td>\n",
       "    </tr>\n",
       "    <tr>\n",
       "      <td>C</td>\n",
       "      <td>NaN</td>\n",
       "      <td>NaN</td>\n",
       "      <td>NaN</td>\n",
       "      <td>NaN</td>\n",
       "      <td>NaN</td>\n",
       "      <td>-1.340053</td>\n",
       "    </tr>\n",
       "  </tbody>\n",
       "</table>\n",
       "</div>"
      ],
      "text/plain": [
       "C           P         Q         R         S         T         U\n",
       "A B                                                            \n",
       "a A -2.226822       NaN       NaN       NaN       NaN       NaN\n",
       "  B       NaN       NaN       NaN       NaN  0.785247       NaN\n",
       "  C       NaN       NaN  0.090887       NaN       NaN       NaN\n",
       "b A       NaN       NaN       NaN -0.331496       NaN       NaN\n",
       "  B       NaN -0.703154       NaN       NaN       NaN       NaN\n",
       "  C       NaN       NaN       NaN       NaN       NaN  1.602076\n",
       "c A  0.403051       NaN       NaN       NaN       NaN       NaN\n",
       "  B       NaN       NaN       NaN       NaN  0.687734       NaN\n",
       "  C       NaN       NaN -0.447142       NaN       NaN       NaN\n",
       "d A       NaN       NaN       NaN  1.154983       NaN       NaN\n",
       "  B       NaN  0.394718       NaN       NaN       NaN       NaN\n",
       "  C       NaN       NaN       NaN       NaN       NaN -1.340053"
      ]
     },
     "execution_count": 70,
     "metadata": {},
     "output_type": "execute_result"
    }
   ],
   "source": [
    " pd.pivot_table(df, values = 'D',index = ['A','B'], columns = 'C')\n",
    "#Creating a pivot table#"
   ]
  },
  {
   "cell_type": "code",
   "execution_count": 71,
   "metadata": {},
   "outputs": [
    {
     "data": {
      "text/plain": [
       "DatetimeIndex(['2020-06-26 00:00:00', '2020-06-26 00:00:01',\n",
       "               '2020-06-26 00:00:02', '2020-06-26 00:00:03',\n",
       "               '2020-06-26 00:00:04', '2020-06-26 00:00:05',\n",
       "               '2020-06-26 00:00:06', '2020-06-26 00:00:07',\n",
       "               '2020-06-26 00:00:08', '2020-06-26 00:00:09',\n",
       "               '2020-06-26 00:00:10', '2020-06-26 00:00:11',\n",
       "               '2020-06-26 00:00:12', '2020-06-26 00:00:13',\n",
       "               '2020-06-26 00:00:14', '2020-06-26 00:00:15',\n",
       "               '2020-06-26 00:00:16', '2020-06-26 00:00:17',\n",
       "               '2020-06-26 00:00:18', '2020-06-26 00:00:19',\n",
       "               '2020-06-26 00:00:20', '2020-06-26 00:00:21',\n",
       "               '2020-06-26 00:00:22', '2020-06-26 00:00:23',\n",
       "               '2020-06-26 00:00:24', '2020-06-26 00:00:25',\n",
       "               '2020-06-26 00:00:26', '2020-06-26 00:00:27',\n",
       "               '2020-06-26 00:00:28', '2020-06-26 00:00:29',\n",
       "               '2020-06-26 00:00:30', '2020-06-26 00:00:31',\n",
       "               '2020-06-26 00:00:32', '2020-06-26 00:00:33',\n",
       "               '2020-06-26 00:00:34', '2020-06-26 00:00:35',\n",
       "               '2020-06-26 00:00:36', '2020-06-26 00:00:37',\n",
       "               '2020-06-26 00:00:38', '2020-06-26 00:00:39',\n",
       "               '2020-06-26 00:00:40', '2020-06-26 00:00:41',\n",
       "               '2020-06-26 00:00:42', '2020-06-26 00:00:43',\n",
       "               '2020-06-26 00:00:44', '2020-06-26 00:00:45',\n",
       "               '2020-06-26 00:00:46', '2020-06-26 00:00:47',\n",
       "               '2020-06-26 00:00:48', '2020-06-26 00:00:49',\n",
       "               '2020-06-26 00:00:50', '2020-06-26 00:00:51',\n",
       "               '2020-06-26 00:00:52', '2020-06-26 00:00:53',\n",
       "               '2020-06-26 00:00:54', '2020-06-26 00:00:55',\n",
       "               '2020-06-26 00:00:56', '2020-06-26 00:00:57',\n",
       "               '2020-06-26 00:00:58', '2020-06-26 00:00:59',\n",
       "               '2020-06-26 00:01:00', '2020-06-26 00:01:01',\n",
       "               '2020-06-26 00:01:02', '2020-06-26 00:01:03',\n",
       "               '2020-06-26 00:01:04', '2020-06-26 00:01:05',\n",
       "               '2020-06-26 00:01:06', '2020-06-26 00:01:07',\n",
       "               '2020-06-26 00:01:08', '2020-06-26 00:01:09',\n",
       "               '2020-06-26 00:01:10', '2020-06-26 00:01:11',\n",
       "               '2020-06-26 00:01:12', '2020-06-26 00:01:13',\n",
       "               '2020-06-26 00:01:14', '2020-06-26 00:01:15',\n",
       "               '2020-06-26 00:01:16', '2020-06-26 00:01:17',\n",
       "               '2020-06-26 00:01:18', '2020-06-26 00:01:19',\n",
       "               '2020-06-26 00:01:20', '2020-06-26 00:01:21',\n",
       "               '2020-06-26 00:01:22', '2020-06-26 00:01:23',\n",
       "               '2020-06-26 00:01:24', '2020-06-26 00:01:25',\n",
       "               '2020-06-26 00:01:26', '2020-06-26 00:01:27',\n",
       "               '2020-06-26 00:01:28', '2020-06-26 00:01:29',\n",
       "               '2020-06-26 00:01:30', '2020-06-26 00:01:31',\n",
       "               '2020-06-26 00:01:32', '2020-06-26 00:01:33',\n",
       "               '2020-06-26 00:01:34', '2020-06-26 00:01:35',\n",
       "               '2020-06-26 00:01:36', '2020-06-26 00:01:37',\n",
       "               '2020-06-26 00:01:38', '2020-06-26 00:01:39'],\n",
       "              dtype='datetime64[ns]', freq='S')"
      ]
     },
     "execution_count": 71,
     "metadata": {},
     "output_type": "execute_result"
    }
   ],
   "source": [
    "dates = pd.date_range('26/6/2020', periods = 100, freq = 'S')\n",
    "dates"
   ]
  },
  {
   "cell_type": "code",
   "execution_count": 72,
   "metadata": {},
   "outputs": [],
   "source": [
    "ts = pd.Series(np.random.randint(0,500,len(dates)), dates)"
   ]
  },
  {
   "cell_type": "code",
   "execution_count": 73,
   "metadata": {},
   "outputs": [
    {
     "data": {
      "text/plain": [
       "2020-06-26    25043\n",
       "Freq: 5T, dtype: int32"
      ]
     },
     "execution_count": 73,
     "metadata": {},
     "output_type": "execute_result"
    }
   ],
   "source": [
    "ts.resample('5 min').sum()"
   ]
  },
  {
   "cell_type": "code",
   "execution_count": 74,
   "metadata": {},
   "outputs": [],
   "source": [
    "dates = pd.date_range('26/6/2020 00:00', periods = 5, freq = 'S')"
   ]
  },
  {
   "cell_type": "code",
   "execution_count": 75,
   "metadata": {},
   "outputs": [],
   "source": [
    "ts = pd.Series(np.random.randn(len(dates)),dates)"
   ]
  },
  {
   "cell_type": "code",
   "execution_count": 76,
   "metadata": {},
   "outputs": [
    {
     "data": {
      "text/plain": [
       "2020-06-26 00:00:00   -1.568280\n",
       "2020-06-26 00:00:01   -0.267616\n",
       "2020-06-26 00:00:02   -1.318046\n",
       "2020-06-26 00:00:03    1.124604\n",
       "2020-06-26 00:00:04    0.306435\n",
       "Freq: S, dtype: float64"
      ]
     },
     "execution_count": 76,
     "metadata": {},
     "output_type": "execute_result"
    }
   ],
   "source": [
    "ts"
   ]
  },
  {
   "cell_type": "code",
   "execution_count": 77,
   "metadata": {},
   "outputs": [
    {
     "data": {
      "text/plain": [
       "2020-06-26 00:00:00+00:00   -1.568280\n",
       "2020-06-26 00:00:01+00:00   -0.267616\n",
       "2020-06-26 00:00:02+00:00   -1.318046\n",
       "2020-06-26 00:00:03+00:00    1.124604\n",
       "2020-06-26 00:00:04+00:00    0.306435\n",
       "Freq: S, dtype: float64"
      ]
     },
     "execution_count": 77,
     "metadata": {},
     "output_type": "execute_result"
    }
   ],
   "source": [
    "ts_utc = ts.tz_localize('UTC') #Creating a time zone represenatation#\n",
    "ts_utc"
   ]
  },
  {
   "cell_type": "code",
   "execution_count": 78,
   "metadata": {},
   "outputs": [
    {
     "data": {
      "text/plain": [
       "2020-06-26 05:30:00+05:30   -1.568280\n",
       "2020-06-26 05:30:01+05:30   -0.267616\n",
       "2020-06-26 05:30:02+05:30   -1.318046\n",
       "2020-06-26 05:30:03+05:30    1.124604\n",
       "2020-06-26 05:30:04+05:30    0.306435\n",
       "Freq: S, dtype: float64"
      ]
     },
     "execution_count": 78,
     "metadata": {},
     "output_type": "execute_result"
    }
   ],
   "source": [
    "ts_utc.tz_convert('Asia/Kolkata') #Converting to time zone#"
   ]
  },
  {
   "cell_type": "code",
   "execution_count": 79,
   "metadata": {},
   "outputs": [],
   "source": [
    "dates = pd.date_range('26/6/2020', periods = 100, freq = 'M')"
   ]
  },
  {
   "cell_type": "code",
   "execution_count": 80,
   "metadata": {},
   "outputs": [
    {
     "data": {
      "text/plain": [
       "2020-06-30   -1.298360\n",
       "2020-07-31   -0.403937\n",
       "2020-08-31   -1.475902\n",
       "2020-09-30    1.542667\n",
       "2020-10-31   -0.228580\n",
       "                ...   \n",
       "2028-05-31   -0.149084\n",
       "2028-06-30    1.529486\n",
       "2028-07-31    0.263022\n",
       "2028-08-31   -0.073570\n",
       "2028-09-30   -1.301110\n",
       "Freq: M, Length: 100, dtype: float64"
      ]
     },
     "execution_count": 80,
     "metadata": {},
     "output_type": "execute_result"
    }
   ],
   "source": [
    "ts = pd.Series(np.random.randn(len(dates)), dates)\n",
    "ts"
   ]
  },
  {
   "cell_type": "code",
   "execution_count": 81,
   "metadata": {},
   "outputs": [
    {
     "data": {
      "text/plain": [
       "2020-06   -1.298360\n",
       "2020-07   -0.403937\n",
       "2020-08   -1.475902\n",
       "2020-09    1.542667\n",
       "2020-10   -0.228580\n",
       "             ...   \n",
       "2028-05   -0.149084\n",
       "2028-06    1.529486\n",
       "2028-07    0.263022\n",
       "2028-08   -0.073570\n",
       "2028-09   -1.301110\n",
       "Freq: M, Length: 100, dtype: float64"
      ]
     },
     "execution_count": 81,
     "metadata": {},
     "output_type": "execute_result"
    }
   ],
   "source": [
    "ps = ts.to_period()\n",
    "ps"
   ]
  },
  {
   "cell_type": "code",
   "execution_count": 82,
   "metadata": {},
   "outputs": [
    {
     "data": {
      "text/plain": [
       "2020-06-01   -1.298360\n",
       "2020-07-01   -0.403937\n",
       "2020-08-01   -1.475902\n",
       "2020-09-01    1.542667\n",
       "2020-10-01   -0.228580\n",
       "                ...   \n",
       "2028-05-01   -0.149084\n",
       "2028-06-01    1.529486\n",
       "2028-07-01    0.263022\n",
       "2028-08-01   -0.073570\n",
       "2028-09-01   -1.301110\n",
       "Freq: MS, Length: 100, dtype: float64"
      ]
     },
     "execution_count": 82,
     "metadata": {},
     "output_type": "execute_result"
    }
   ],
   "source": [
    "ps.to_timestamp()"
   ]
  },
  {
   "cell_type": "code",
   "execution_count": 83,
   "metadata": {},
   "outputs": [
    {
     "data": {
      "text/html": [
       "<div>\n",
       "<style scoped>\n",
       "    .dataframe tbody tr th:only-of-type {\n",
       "        vertical-align: middle;\n",
       "    }\n",
       "\n",
       "    .dataframe tbody tr th {\n",
       "        vertical-align: top;\n",
       "    }\n",
       "\n",
       "    .dataframe thead th {\n",
       "        text-align: right;\n",
       "    }\n",
       "</style>\n",
       "<table border=\"1\" class=\"dataframe\">\n",
       "  <thead>\n",
       "    <tr style=\"text-align: right;\">\n",
       "      <th></th>\n",
       "      <th>id</th>\n",
       "      <th>grade</th>\n",
       "    </tr>\n",
       "  </thead>\n",
       "  <tbody>\n",
       "    <tr>\n",
       "      <td>0</td>\n",
       "      <td>1</td>\n",
       "      <td>a</td>\n",
       "    </tr>\n",
       "    <tr>\n",
       "      <td>1</td>\n",
       "      <td>2</td>\n",
       "      <td>b</td>\n",
       "    </tr>\n",
       "    <tr>\n",
       "      <td>2</td>\n",
       "      <td>3</td>\n",
       "      <td>c</td>\n",
       "    </tr>\n",
       "    <tr>\n",
       "      <td>3</td>\n",
       "      <td>4</td>\n",
       "      <td>d</td>\n",
       "    </tr>\n",
       "    <tr>\n",
       "      <td>4</td>\n",
       "      <td>5</td>\n",
       "      <td>e</td>\n",
       "    </tr>\n",
       "    <tr>\n",
       "      <td>5</td>\n",
       "      <td>6</td>\n",
       "      <td>f</td>\n",
       "    </tr>\n",
       "  </tbody>\n",
       "</table>\n",
       "</div>"
      ],
      "text/plain": [
       "   id grade\n",
       "0   1     a\n",
       "1   2     b\n",
       "2   3     c\n",
       "3   4     d\n",
       "4   5     e\n",
       "5   6     f"
      ]
     },
     "execution_count": 83,
     "metadata": {},
     "output_type": "execute_result"
    }
   ],
   "source": [
    "df = pd.DataFrame({'id':[1,2,3,4,5,6],\n",
    "                   'grade':['a','b','c','d','e','f']})\n",
    "df"
   ]
  },
  {
   "cell_type": "code",
   "execution_count": 84,
   "metadata": {},
   "outputs": [
    {
     "data": {
      "text/html": [
       "<div>\n",
       "<style scoped>\n",
       "    .dataframe tbody tr th:only-of-type {\n",
       "        vertical-align: middle;\n",
       "    }\n",
       "\n",
       "    .dataframe tbody tr th {\n",
       "        vertical-align: top;\n",
       "    }\n",
       "\n",
       "    .dataframe thead th {\n",
       "        text-align: right;\n",
       "    }\n",
       "</style>\n",
       "<table border=\"1\" class=\"dataframe\">\n",
       "  <thead>\n",
       "    <tr style=\"text-align: right;\">\n",
       "      <th></th>\n",
       "      <th>id</th>\n",
       "      <th>grade</th>\n",
       "      <th>Grade</th>\n",
       "    </tr>\n",
       "  </thead>\n",
       "  <tbody>\n",
       "    <tr>\n",
       "      <td>0</td>\n",
       "      <td>1</td>\n",
       "      <td>a</td>\n",
       "      <td>a</td>\n",
       "    </tr>\n",
       "    <tr>\n",
       "      <td>1</td>\n",
       "      <td>2</td>\n",
       "      <td>b</td>\n",
       "      <td>b</td>\n",
       "    </tr>\n",
       "    <tr>\n",
       "      <td>2</td>\n",
       "      <td>3</td>\n",
       "      <td>c</td>\n",
       "      <td>c</td>\n",
       "    </tr>\n",
       "    <tr>\n",
       "      <td>3</td>\n",
       "      <td>4</td>\n",
       "      <td>d</td>\n",
       "      <td>d</td>\n",
       "    </tr>\n",
       "    <tr>\n",
       "      <td>4</td>\n",
       "      <td>5</td>\n",
       "      <td>e</td>\n",
       "      <td>e</td>\n",
       "    </tr>\n",
       "    <tr>\n",
       "      <td>5</td>\n",
       "      <td>6</td>\n",
       "      <td>f</td>\n",
       "      <td>f</td>\n",
       "    </tr>\n",
       "  </tbody>\n",
       "</table>\n",
       "</div>"
      ],
      "text/plain": [
       "   id grade Grade\n",
       "0   1     a     a\n",
       "1   2     b     b\n",
       "2   3     c     c\n",
       "3   4     d     d\n",
       "4   5     e     e\n",
       "5   6     f     f"
      ]
     },
     "execution_count": 84,
     "metadata": {},
     "output_type": "execute_result"
    }
   ],
   "source": [
    "df['Grade'] = df['grade'].astype(\"category\")\n",
    "df"
   ]
  },
  {
   "cell_type": "code",
   "execution_count": 85,
   "metadata": {},
   "outputs": [],
   "source": [
    "df['Grade'].cat.categories = ['very bad','bad','moderate','good','very good','excellent']"
   ]
  },
  {
   "cell_type": "code",
   "execution_count": 86,
   "metadata": {},
   "outputs": [],
   "source": [
    "df['Grade'] = df['Grade'].cat.set_categories(['very bad','bad','moderate','good','very good','excellent'])"
   ]
  },
  {
   "cell_type": "code",
   "execution_count": 87,
   "metadata": {},
   "outputs": [
    {
     "data": {
      "text/plain": [
       "0     very bad\n",
       "1          bad\n",
       "2     moderate\n",
       "3         good\n",
       "4    very good\n",
       "5    excellent\n",
       "Name: Grade, dtype: category\n",
       "Categories (6, object): [very bad, bad, moderate, good, very good, excellent]"
      ]
     },
     "execution_count": 87,
     "metadata": {},
     "output_type": "execute_result"
    }
   ],
   "source": [
    "df['Grade']"
   ]
  },
  {
   "cell_type": "code",
   "execution_count": 88,
   "metadata": {},
   "outputs": [],
   "source": [
    "#Importing matplotlib#\n",
    "import matplotlib.pyplot as plt"
   ]
  },
  {
   "cell_type": "code",
   "execution_count": 89,
   "metadata": {},
   "outputs": [],
   "source": [
    "plt.close('all')"
   ]
  },
  {
   "cell_type": "code",
   "execution_count": 90,
   "metadata": {},
   "outputs": [],
   "source": [
    "ts  = pd.Series(np.random.randn(500), index = pd.date_range('26/6/2020', periods = 500))"
   ]
  },
  {
   "cell_type": "code",
   "execution_count": 91,
   "metadata": {},
   "outputs": [],
   "source": [
    "ts = ts.cumsum()"
   ]
  },
  {
   "cell_type": "code",
   "execution_count": 92,
   "metadata": {},
   "outputs": [
    {
     "data": {
      "text/plain": [
       "<matplotlib.axes._subplots.AxesSubplot at 0x1ec86457488>"
      ]
     },
     "execution_count": 92,
     "metadata": {},
     "output_type": "execute_result"
    },
    {
     "data": {
      "image/png": "[encoded data removed]",
      "text/plain": [
       "<Figure size 432x288 with 1 Axes>"
      ]
     },
     "metadata": {
      "needs_background": "light"
     },
     "output_type": "display_data"
    }
   ],
   "source": [
    "ts.plot()"
   ]
  },
  {
   "cell_type": "code",
   "execution_count": 93,
   "metadata": {},
   "outputs": [
    {
     "name": "stderr",
     "output_type": "stream",
     "text": [
      "C:\\Users\\Admin-PC\\Anaconda3\\lib\\site-packages\\ipykernel_launcher.py:1: FutureWarning: The signature of `Series.to_csv` was aligned to that of `DataFrame.to_csv`, and argument 'header' will change its default value from False to True: please pass an explicit value to suppress this warning.\n",
      "  \"\"\"Entry point for launching an IPython kernel.\n"
     ]
    }
   ],
   "source": [
    "ts.to_csv(\"ts.csv\") #Converting a dataframe to a csv file#"
   ]
  },
  {
   "cell_type": "code",
   "execution_count": 94,
   "metadata": {},
   "outputs": [
    {
     "data": {
      "text/html": [
       "<div>\n",
       "<style scoped>\n",
       "    .dataframe tbody tr th:only-of-type {\n",
       "        vertical-align: middle;\n",
       "    }\n",
       "\n",
       "    .dataframe tbody tr th {\n",
       "        vertical-align: top;\n",
       "    }\n",
       "\n",
       "    .dataframe thead th {\n",
       "        text-align: right;\n",
       "    }\n",
       "</style>\n",
       "<table border=\"1\" class=\"dataframe\">\n",
       "  <thead>\n",
       "    <tr style=\"text-align: right;\">\n",
       "      <th></th>\n",
       "      <th>game</th>\n",
       "      <th>date</th>\n",
       "      <th>age</th>\n",
       "      <th>team</th>\n",
       "      <th>opp</th>\n",
       "      <th>result</th>\n",
       "      <th>mp</th>\n",
       "      <th>fg</th>\n",
       "      <th>fga</th>\n",
       "      <th>fgp</th>\n",
       "      <th>...</th>\n",
       "      <th>orb</th>\n",
       "      <th>drb</th>\n",
       "      <th>trb</th>\n",
       "      <th>ast</th>\n",
       "      <th>stl</th>\n",
       "      <th>blk</th>\n",
       "      <th>tov</th>\n",
       "      <th>pts</th>\n",
       "      <th>game_score</th>\n",
       "      <th>minus_plus</th>\n",
       "    </tr>\n",
       "  </thead>\n",
       "  <tbody>\n",
       "    <tr>\n",
       "      <td>0</td>\n",
       "      <td>1</td>\n",
       "      <td>1984-10-26</td>\n",
       "      <td>21-252</td>\n",
       "      <td>CHI</td>\n",
       "      <td>WSB</td>\n",
       "      <td>W (+16)</td>\n",
       "      <td>40:00</td>\n",
       "      <td>5</td>\n",
       "      <td>16</td>\n",
       "      <td>0.313</td>\n",
       "      <td>...</td>\n",
       "      <td>1</td>\n",
       "      <td>5</td>\n",
       "      <td>6</td>\n",
       "      <td>7</td>\n",
       "      <td>2</td>\n",
       "      <td>4</td>\n",
       "      <td>5</td>\n",
       "      <td>16</td>\n",
       "      <td>12.5</td>\n",
       "      <td>NaN</td>\n",
       "    </tr>\n",
       "    <tr>\n",
       "      <td>1</td>\n",
       "      <td>2</td>\n",
       "      <td>1984-10-27</td>\n",
       "      <td>21-253</td>\n",
       "      <td>CHI</td>\n",
       "      <td>MIL</td>\n",
       "      <td>L (-2)</td>\n",
       "      <td>34:00</td>\n",
       "      <td>8</td>\n",
       "      <td>13</td>\n",
       "      <td>0.615</td>\n",
       "      <td>...</td>\n",
       "      <td>3</td>\n",
       "      <td>2</td>\n",
       "      <td>5</td>\n",
       "      <td>5</td>\n",
       "      <td>2</td>\n",
       "      <td>1</td>\n",
       "      <td>3</td>\n",
       "      <td>21</td>\n",
       "      <td>19.4</td>\n",
       "      <td>NaN</td>\n",
       "    </tr>\n",
       "    <tr>\n",
       "      <td>2</td>\n",
       "      <td>3</td>\n",
       "      <td>1984-10-29</td>\n",
       "      <td>21-255</td>\n",
       "      <td>CHI</td>\n",
       "      <td>MIL</td>\n",
       "      <td>W (+6)</td>\n",
       "      <td>34:00</td>\n",
       "      <td>13</td>\n",
       "      <td>24</td>\n",
       "      <td>0.542</td>\n",
       "      <td>...</td>\n",
       "      <td>2</td>\n",
       "      <td>2</td>\n",
       "      <td>4</td>\n",
       "      <td>5</td>\n",
       "      <td>6</td>\n",
       "      <td>2</td>\n",
       "      <td>3</td>\n",
       "      <td>37</td>\n",
       "      <td>32.9</td>\n",
       "      <td>NaN</td>\n",
       "    </tr>\n",
       "    <tr>\n",
       "      <td>3</td>\n",
       "      <td>4</td>\n",
       "      <td>1984-10-30</td>\n",
       "      <td>21-256</td>\n",
       "      <td>CHI</td>\n",
       "      <td>KCK</td>\n",
       "      <td>W (+5)</td>\n",
       "      <td>36:00</td>\n",
       "      <td>8</td>\n",
       "      <td>21</td>\n",
       "      <td>0.381</td>\n",
       "      <td>...</td>\n",
       "      <td>2</td>\n",
       "      <td>2</td>\n",
       "      <td>4</td>\n",
       "      <td>5</td>\n",
       "      <td>3</td>\n",
       "      <td>1</td>\n",
       "      <td>6</td>\n",
       "      <td>25</td>\n",
       "      <td>14.7</td>\n",
       "      <td>NaN</td>\n",
       "    </tr>\n",
       "    <tr>\n",
       "      <td>4</td>\n",
       "      <td>5</td>\n",
       "      <td>1984-11-01</td>\n",
       "      <td>21-258</td>\n",
       "      <td>CHI</td>\n",
       "      <td>DEN</td>\n",
       "      <td>L (-16)</td>\n",
       "      <td>33:00</td>\n",
       "      <td>7</td>\n",
       "      <td>15</td>\n",
       "      <td>0.467</td>\n",
       "      <td>...</td>\n",
       "      <td>3</td>\n",
       "      <td>2</td>\n",
       "      <td>5</td>\n",
       "      <td>5</td>\n",
       "      <td>1</td>\n",
       "      <td>1</td>\n",
       "      <td>2</td>\n",
       "      <td>17</td>\n",
       "      <td>13.2</td>\n",
       "      <td>NaN</td>\n",
       "    </tr>\n",
       "    <tr>\n",
       "      <td>...</td>\n",
       "      <td>...</td>\n",
       "      <td>...</td>\n",
       "      <td>...</td>\n",
       "      <td>...</td>\n",
       "      <td>...</td>\n",
       "      <td>...</td>\n",
       "      <td>...</td>\n",
       "      <td>...</td>\n",
       "      <td>...</td>\n",
       "      <td>...</td>\n",
       "      <td>...</td>\n",
       "      <td>...</td>\n",
       "      <td>...</td>\n",
       "      <td>...</td>\n",
       "      <td>...</td>\n",
       "      <td>...</td>\n",
       "      <td>...</td>\n",
       "      <td>...</td>\n",
       "      <td>...</td>\n",
       "      <td>...</td>\n",
       "      <td>...</td>\n",
       "    </tr>\n",
       "    <tr>\n",
       "      <td>1067</td>\n",
       "      <td>78</td>\n",
       "      <td>2003-04-09</td>\n",
       "      <td>40-051</td>\n",
       "      <td>WAS</td>\n",
       "      <td>BOS</td>\n",
       "      <td>L (-4)</td>\n",
       "      <td>43:00</td>\n",
       "      <td>8</td>\n",
       "      <td>17</td>\n",
       "      <td>0.471</td>\n",
       "      <td>...</td>\n",
       "      <td>0</td>\n",
       "      <td>10</td>\n",
       "      <td>10</td>\n",
       "      <td>1</td>\n",
       "      <td>2</td>\n",
       "      <td>0</td>\n",
       "      <td>1</td>\n",
       "      <td>21</td>\n",
       "      <td>16.2</td>\n",
       "      <td>NaN</td>\n",
       "    </tr>\n",
       "    <tr>\n",
       "      <td>1068</td>\n",
       "      <td>79</td>\n",
       "      <td>2003-04-11</td>\n",
       "      <td>40-053</td>\n",
       "      <td>WAS</td>\n",
       "      <td>MIA</td>\n",
       "      <td>W (+4)</td>\n",
       "      <td>40:00</td>\n",
       "      <td>11</td>\n",
       "      <td>26</td>\n",
       "      <td>0.423</td>\n",
       "      <td>...</td>\n",
       "      <td>1</td>\n",
       "      <td>1</td>\n",
       "      <td>2</td>\n",
       "      <td>4</td>\n",
       "      <td>2</td>\n",
       "      <td>0</td>\n",
       "      <td>1</td>\n",
       "      <td>25</td>\n",
       "      <td>15.2</td>\n",
       "      <td>NaN</td>\n",
       "    </tr>\n",
       "    <tr>\n",
       "      <td>1069</td>\n",
       "      <td>80</td>\n",
       "      <td>2003-04-12</td>\n",
       "      <td>40-054</td>\n",
       "      <td>WAS</td>\n",
       "      <td>ATL</td>\n",
       "      <td>L (-1)</td>\n",
       "      <td>30:00</td>\n",
       "      <td>8</td>\n",
       "      <td>16</td>\n",
       "      <td>0.500</td>\n",
       "      <td>...</td>\n",
       "      <td>2</td>\n",
       "      <td>6</td>\n",
       "      <td>8</td>\n",
       "      <td>6</td>\n",
       "      <td>1</td>\n",
       "      <td>1</td>\n",
       "      <td>2</td>\n",
       "      <td>17</td>\n",
       "      <td>14.5</td>\n",
       "      <td>NaN</td>\n",
       "    </tr>\n",
       "    <tr>\n",
       "      <td>1070</td>\n",
       "      <td>81</td>\n",
       "      <td>2003-04-14</td>\n",
       "      <td>40-056</td>\n",
       "      <td>WAS</td>\n",
       "      <td>NYK</td>\n",
       "      <td>L (-14)</td>\n",
       "      <td>37:00</td>\n",
       "      <td>9</td>\n",
       "      <td>22</td>\n",
       "      <td>0.409</td>\n",
       "      <td>...</td>\n",
       "      <td>1</td>\n",
       "      <td>7</td>\n",
       "      <td>8</td>\n",
       "      <td>1</td>\n",
       "      <td>1</td>\n",
       "      <td>0</td>\n",
       "      <td>2</td>\n",
       "      <td>21</td>\n",
       "      <td>11.3</td>\n",
       "      <td>NaN</td>\n",
       "    </tr>\n",
       "    <tr>\n",
       "      <td>1071</td>\n",
       "      <td>82</td>\n",
       "      <td>2003-04-16</td>\n",
       "      <td>40-058</td>\n",
       "      <td>WAS</td>\n",
       "      <td>PHI</td>\n",
       "      <td>L (-20)</td>\n",
       "      <td>28:00</td>\n",
       "      <td>6</td>\n",
       "      <td>15</td>\n",
       "      <td>0.400</td>\n",
       "      <td>...</td>\n",
       "      <td>0</td>\n",
       "      <td>4</td>\n",
       "      <td>4</td>\n",
       "      <td>4</td>\n",
       "      <td>0</td>\n",
       "      <td>0</td>\n",
       "      <td>2</td>\n",
       "      <td>15</td>\n",
       "      <td>8.5</td>\n",
       "      <td>NaN</td>\n",
       "    </tr>\n",
       "  </tbody>\n",
       "</table>\n",
       "<p>1072 rows × 26 columns</p>\n",
       "</div>"
      ],
      "text/plain": [
       "      game        date     age team  opp   result     mp  fg  fga    fgp  ...  \\\n",
       "0        1  1984-10-26  21-252  CHI  WSB  W (+16)  40:00   5   16  0.313  ...   \n",
       "1        2  1984-10-27  21-253  CHI  MIL   L (-2)  34:00   8   13  0.615  ...   \n",
       "2        3  1984-10-29  21-255  CHI  MIL   W (+6)  34:00  13   24  0.542  ...   \n",
       "3        4  1984-10-30  21-256  CHI  KCK   W (+5)  36:00   8   21  0.381  ...   \n",
       "4        5  1984-11-01  21-258  CHI  DEN  L (-16)  33:00   7   15  0.467  ...   \n",
       "...    ...         ...     ...  ...  ...      ...    ...  ..  ...    ...  ...   \n",
       "1067    78  2003-04-09  40-051  WAS  BOS   L (-4)  43:00   8   17  0.471  ...   \n",
       "1068    79  2003-04-11  40-053  WAS  MIA   W (+4)  40:00  11   26  0.423  ...   \n",
       "1069    80  2003-04-12  40-054  WAS  ATL   L (-1)  30:00   8   16  0.500  ...   \n",
       "1070    81  2003-04-14  40-056  WAS  NYK  L (-14)  37:00   9   22  0.409  ...   \n",
       "1071    82  2003-04-16  40-058  WAS  PHI  L (-20)  28:00   6   15  0.400  ...   \n",
       "\n",
       "      orb  drb  trb  ast  stl  blk  tov  pts  game_score  minus_plus  \n",
       "0       1    5    6    7    2    4    5   16        12.5         NaN  \n",
       "1       3    2    5    5    2    1    3   21        19.4         NaN  \n",
       "2       2    2    4    5    6    2    3   37        32.9         NaN  \n",
       "3       2    2    4    5    3    1    6   25        14.7         NaN  \n",
       "4       3    2    5    5    1    1    2   17        13.2         NaN  \n",
       "...   ...  ...  ...  ...  ...  ...  ...  ...         ...         ...  \n",
       "1067    0   10   10    1    2    0    1   21        16.2         NaN  \n",
       "1068    1    1    2    4    2    0    1   25        15.2         NaN  \n",
       "1069    2    6    8    6    1    1    2   17        14.5         NaN  \n",
       "1070    1    7    8    1    1    0    2   21        11.3         NaN  \n",
       "1071    0    4    4    4    0    0    2   15         8.5         NaN  \n",
       "\n",
       "[1072 rows x 26 columns]"
      ]
     },
     "execution_count": 94,
     "metadata": {},
     "output_type": "execute_result"
    }
   ],
   "source": [
    "pd.read_csv('E:\\jordan_career.csv') #Reading a file from device# "
   ]
  },
  {
   "cell_type": "code",
   "execution_count": null,
   "metadata": {},
   "outputs": [],
   "source": []
  }
 ],
 "metadata": {
  "kernelspec": {
   "display_name": "Python 3",
   "language": "python",
   "name": "python3"
  },
  "language_info": {
   "codemirror_mode": {
    "name": "ipython",
    "version": 3
   },
   "file_extension": ".py",
   "mimetype": "text/x-python",
   "name": "python",
   "nbconvert_exporter": "python",
   "pygments_lexer": "ipython3",
   "version": "3.7.4"
  }
 },
 "nbformat": 4,
 "nbformat_minor": 2
}
